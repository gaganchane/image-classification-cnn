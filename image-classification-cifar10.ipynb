{
 "cells": [
  {
   "cell_type": "markdown",
   "metadata": {
    "colab_type": "text",
    "id": "OMinrKm-mifV"
   },
   "source": [
    "## **Image Classification on CIFAR-10 Image Data**"
   ]
  },
  {
   "cell_type": "code",
   "execution_count": null,
   "metadata": {
    "colab": {},
    "colab_type": "code",
    "id": "IV9la-wKc91M"
   },
   "outputs": [],
   "source": [
    "import numpy as np\n",
    "import keras\n",
    "import tensorflow.keras\n",
    "from tensorflow.keras.datasets import cifar10\n",
    "from tensorflow.keras import models, layers, optimizers, regularizers\n",
    "from keras.utils import np_utils\n",
    "from tensorflow.keras.models import Sequential, Model\n",
    "import matplotlib.pyplot as plt\n",
    "import skimage.transform\n",
    "from tensorflow.keras import backend as K\n",
    "from tensorflow.keras.preprocessing.image import ImageDataGenerator\n",
    "from tensorflow.keras.layers import * \n",
    "from tensorflow.keras.applications import InceptionV3, VGG16, ResNet50"
   ]
  },
  {
   "cell_type": "code",
   "execution_count": null,
   "metadata": {
    "colab": {
     "base_uri": "https://localhost:8080/",
     "height": 85
    },
    "colab_type": "code",
    "id": "ACJydZMsvOPi",
    "outputId": "dfb5a28b-0720-4505-dbcf-cc88bf30354c"
   },
   "outputs": [
    {
     "name": "stdout",
     "output_type": "stream",
     "text": [
      "Downloading data from https://www.cs.toronto.edu/~kriz/cifar-10-python.tar.gz\n",
      "170500096/170498071 [==============================] - 11s 0us/step\n",
      "(50000, 32, 32, 3)\n",
      "(10000, 32, 32, 3)\n"
     ]
    }
   ],
   "source": [
    "# Load dataset as train and test sets\n",
    "(x_train, y_train), (x_test, y_test) = cifar10.load_data()\n",
    "\n",
    "# Set numeric type to float32 from uint8\n",
    "x_train = x_train.astype('float32')\n",
    "x_test = x_test.astype('float32')\n",
    "\n",
    "# Transform labels to one-hot encoding\n",
    "y_train = np_utils.to_categorical(y_train, 10)\n",
    "y_test = np_utils.to_categorical(y_test, 10)\n",
    "\n",
    "print(x_train.shape)\n",
    "print(x_test.shape)"
   ]
  },
  {
   "cell_type": "code",
   "execution_count": null,
   "metadata": {
    "colab": {},
    "colab_type": "code",
    "id": "3ct5lQ5lmrE3"
   },
   "outputs": [],
   "source": [
    "# testing with imagedatagen to see if there is any improvement:\n",
    "datagen = ImageDataGenerator(\n",
    "    zca_whitening=False,  # apply ZCA whitening\n",
    "    rotation_range=15,  # randomly rotate images in the range (degrees, 0 to 180)\n",
    "    width_shift_range=0.1,  # randomly shift images horizontally (fraction of total width)\n",
    "    height_shift_range=0.1,  # randomly shift images vertically (fraction of total height)\n",
    "    horizontal_flip=True,  # randomly flip images\n",
    "    vertical_flip=False)  # randomly flip images\n",
    "\n",
    "datagen.fit(x_train)"
   ]
  },
  {
   "cell_type": "markdown",
   "metadata": {
    "colab_type": "text",
    "id": "XIavGBSGPacM"
   },
   "source": [
    "# **LeNet Implementation** "
   ]
  },
  {
   "cell_type": "code",
   "execution_count": null,
   "metadata": {
    "colab": {},
    "colab_type": "code",
    "id": "yhY2BSMfwFvm"
   },
   "outputs": [],
   "source": [
    "LeNetmodel = Sequential()\n",
    "\n",
    "LeNetmodel.add(layers.Conv2D(6, kernel_size=(5, 5), strides=(1, 1), activation='tanh', input_shape=(32,32,3), padding=\"same\"))\n",
    "LeNetmodel.add(layers.AveragePooling2D(pool_size=(2, 2), strides=(1, 1), padding=\"valid\"))\n",
    "\n",
    "LeNetmodel.add(layers.Conv2D(16, kernel_size=(5, 5), strides=(1, 1), activation='tanh', padding=\"valid\"))\n",
    "LeNetmodel.add(layers.AveragePooling2D(pool_size=(2, 2), strides=(2, 2), padding=\"valid\"))\n",
    "\n",
    "#Flatten the CNN output so that we can connect it with fully connected layers\n",
    "LeNetmodel.add(layers.Flatten())\n",
    "\n",
    "LeNetmodel.add(Dense(120, activation='tanh'))\n",
    "LeNetmodel.add(Dense(84, activation='tanh'))\n",
    "LeNetmodel.add(Dense(10, activation=\"softmax\"))\n",
    "\n",
    "# Compile the model\n",
    "LeNetmodel.compile(loss= 'categorical_crossentropy', optimizer='sgd', metrics=['accuracy'])"
   ]
  },
  {
   "cell_type": "code",
   "execution_count": null,
   "metadata": {
    "colab": {
     "base_uri": "https://localhost:8080/",
     "height": 443
    },
    "colab_type": "code",
    "id": "mY4rMMACV6hG",
    "outputId": "246e00f3-d007-40b1-fc8b-799e434074bb"
   },
   "outputs": [
    {
     "name": "stdout",
     "output_type": "stream",
     "text": [
      "Model: \"sequential_2\"\n",
      "_________________________________________________________________\n",
      "Layer (type)                 Output Shape              Param #   \n",
      "=================================================================\n",
      "conv2d_2 (Conv2D)            (None, 32, 32, 6)         456       \n",
      "_________________________________________________________________\n",
      "average_pooling2d_2 (Average (None, 31, 31, 6)         0         \n",
      "_________________________________________________________________\n",
      "conv2d_3 (Conv2D)            (None, 27, 27, 16)        2416      \n",
      "_________________________________________________________________\n",
      "average_pooling2d_3 (Average (None, 13, 13, 16)        0         \n",
      "_________________________________________________________________\n",
      "flatten_2 (Flatten)          (None, 2704)              0         \n",
      "_________________________________________________________________\n",
      "dense_6 (Dense)              (None, 120)               324600    \n",
      "_________________________________________________________________\n",
      "dense_7 (Dense)              (None, 84)                10164     \n",
      "_________________________________________________________________\n",
      "dense_8 (Dense)              (None, 10)                850       \n",
      "=================================================================\n",
      "Total params: 338,486\n",
      "Trainable params: 338,486\n",
      "Non-trainable params: 0\n",
      "_________________________________________________________________\n"
     ]
    }
   ],
   "source": [
    "LeNetmodel.summary()"
   ]
  },
  {
   "cell_type": "code",
   "execution_count": null,
   "metadata": {
    "colab": {
     "base_uri": "https://localhost:8080/",
     "height": 1000
    },
    "colab_type": "code",
    "id": "vL7qB3OvL1hx",
    "outputId": "fa31bfc2-5b39-4d6a-c2e9-feefe7a9c453"
   },
   "outputs": [
    {
     "name": "stdout",
     "output_type": "stream",
     "text": [
      "Epoch 1/50\n",
      "391/390 [==============================] - 29s 74ms/step - loss: 2.0778 - accuracy: 0.2407 - val_loss: 1.8217 - val_accuracy: 0.3410\n",
      "Epoch 2/50\n",
      "391/390 [==============================] - 28s 73ms/step - loss: 1.8131 - accuracy: 0.3480 - val_loss: 2.0367 - val_accuracy: 0.2740\n",
      "Epoch 3/50\n",
      "391/390 [==============================] - 29s 73ms/step - loss: 1.7329 - accuracy: 0.3790 - val_loss: 1.6572 - val_accuracy: 0.4058\n",
      "Epoch 4/50\n",
      "391/390 [==============================] - 29s 74ms/step - loss: 1.6918 - accuracy: 0.3950 - val_loss: 1.6529 - val_accuracy: 0.4024\n",
      "Epoch 5/50\n",
      "391/390 [==============================] - 29s 74ms/step - loss: 1.6645 - accuracy: 0.4040 - val_loss: 1.5627 - val_accuracy: 0.4418\n",
      "Epoch 6/50\n",
      "391/390 [==============================] - 28s 73ms/step - loss: 1.6326 - accuracy: 0.4145 - val_loss: 1.5295 - val_accuracy: 0.4549\n",
      "Epoch 7/50\n",
      "391/390 [==============================] - 29s 73ms/step - loss: 1.6027 - accuracy: 0.4242 - val_loss: 1.6941 - val_accuracy: 0.4037\n",
      "Epoch 8/50\n",
      "391/390 [==============================] - 29s 73ms/step - loss: 1.5778 - accuracy: 0.4346 - val_loss: 1.5536 - val_accuracy: 0.4502\n",
      "Epoch 9/50\n",
      "391/390 [==============================] - 29s 75ms/step - loss: 1.5593 - accuracy: 0.4418 - val_loss: 1.4792 - val_accuracy: 0.4753\n",
      "Epoch 10/50\n",
      "391/390 [==============================] - 29s 74ms/step - loss: 1.5408 - accuracy: 0.4487 - val_loss: 1.4808 - val_accuracy: 0.4704\n",
      "Epoch 11/50\n",
      "391/390 [==============================] - 28s 73ms/step - loss: 1.5282 - accuracy: 0.4533 - val_loss: 1.4583 - val_accuracy: 0.4785\n",
      "Epoch 12/50\n",
      "391/390 [==============================] - 28s 73ms/step - loss: 1.5148 - accuracy: 0.4567 - val_loss: 1.4517 - val_accuracy: 0.4772\n",
      "Epoch 13/50\n",
      "391/390 [==============================] - 29s 73ms/step - loss: 1.4965 - accuracy: 0.4649 - val_loss: 1.4056 - val_accuracy: 0.5022\n",
      "Epoch 14/50\n",
      "391/390 [==============================] - 28s 72ms/step - loss: 1.4927 - accuracy: 0.4665 - val_loss: 1.4692 - val_accuracy: 0.4794\n",
      "Epoch 15/50\n",
      "391/390 [==============================] - 29s 74ms/step - loss: 1.4804 - accuracy: 0.4706 - val_loss: 1.4590 - val_accuracy: 0.4763\n",
      "Epoch 16/50\n",
      "391/390 [==============================] - 29s 73ms/step - loss: 1.4718 - accuracy: 0.4738 - val_loss: 1.3679 - val_accuracy: 0.5150\n",
      "Epoch 17/50\n",
      "391/390 [==============================] - 29s 73ms/step - loss: 1.4563 - accuracy: 0.4784 - val_loss: 1.3626 - val_accuracy: 0.5153\n",
      "Epoch 18/50\n",
      "391/390 [==============================] - 29s 73ms/step - loss: 1.4472 - accuracy: 0.4816 - val_loss: 1.3723 - val_accuracy: 0.5116\n",
      "Epoch 19/50\n",
      "391/390 [==============================] - 29s 73ms/step - loss: 1.4436 - accuracy: 0.4858 - val_loss: 1.4399 - val_accuracy: 0.4943\n",
      "Epoch 20/50\n",
      "391/390 [==============================] - 29s 74ms/step - loss: 1.4361 - accuracy: 0.4873 - val_loss: 1.3421 - val_accuracy: 0.5257\n",
      "Epoch 21/50\n",
      "391/390 [==============================] - 29s 73ms/step - loss: 1.4220 - accuracy: 0.4934 - val_loss: 1.3460 - val_accuracy: 0.5228\n",
      "Epoch 22/50\n",
      "391/390 [==============================] - 29s 73ms/step - loss: 1.4165 - accuracy: 0.4950 - val_loss: 1.3342 - val_accuracy: 0.5276\n",
      "Epoch 23/50\n",
      "391/390 [==============================] - 28s 72ms/step - loss: 1.4122 - accuracy: 0.4983 - val_loss: 1.3233 - val_accuracy: 0.5331\n",
      "Epoch 24/50\n",
      "391/390 [==============================] - 28s 72ms/step - loss: 1.3976 - accuracy: 0.5007 - val_loss: 1.3284 - val_accuracy: 0.5286\n",
      "Epoch 25/50\n",
      "391/390 [==============================] - 28s 72ms/step - loss: 1.3922 - accuracy: 0.5030 - val_loss: 1.3119 - val_accuracy: 0.5319\n",
      "Epoch 26/50\n",
      "391/390 [==============================] - 29s 73ms/step - loss: 1.3906 - accuracy: 0.5038 - val_loss: 1.3249 - val_accuracy: 0.5312\n",
      "Epoch 27/50\n",
      "391/390 [==============================] - 28s 72ms/step - loss: 1.3768 - accuracy: 0.5109 - val_loss: 1.3255 - val_accuracy: 0.5316\n",
      "Epoch 28/50\n",
      "391/390 [==============================] - 28s 72ms/step - loss: 1.3728 - accuracy: 0.5121 - val_loss: 1.3237 - val_accuracy: 0.5285\n",
      "Epoch 29/50\n",
      "391/390 [==============================] - 28s 73ms/step - loss: 1.3601 - accuracy: 0.5172 - val_loss: 1.3001 - val_accuracy: 0.5369\n",
      "Epoch 30/50\n",
      "391/390 [==============================] - 28s 72ms/step - loss: 1.3577 - accuracy: 0.5173 - val_loss: 1.3059 - val_accuracy: 0.5321\n",
      "Epoch 31/50\n",
      "391/390 [==============================] - 28s 72ms/step - loss: 1.3533 - accuracy: 0.5205 - val_loss: 1.2937 - val_accuracy: 0.5404\n",
      "Epoch 32/50\n",
      "391/390 [==============================] - 28s 72ms/step - loss: 1.3433 - accuracy: 0.5227 - val_loss: 1.2776 - val_accuracy: 0.5475\n",
      "Epoch 33/50\n",
      "391/390 [==============================] - 29s 73ms/step - loss: 1.3408 - accuracy: 0.5255 - val_loss: 1.3227 - val_accuracy: 0.5274\n",
      "Epoch 34/50\n",
      "391/390 [==============================] - 28s 72ms/step - loss: 1.3344 - accuracy: 0.5271 - val_loss: 1.2658 - val_accuracy: 0.5534\n",
      "Epoch 35/50\n",
      "391/390 [==============================] - 28s 72ms/step - loss: 1.3276 - accuracy: 0.5297 - val_loss: 1.2550 - val_accuracy: 0.5576\n",
      "Epoch 36/50\n",
      "391/390 [==============================] - 28s 73ms/step - loss: 1.3220 - accuracy: 0.5301 - val_loss: 1.2433 - val_accuracy: 0.5580\n",
      "Epoch 37/50\n",
      "391/390 [==============================] - 29s 73ms/step - loss: 1.3124 - accuracy: 0.5343 - val_loss: 1.2718 - val_accuracy: 0.5531\n",
      "Epoch 38/50\n",
      "391/390 [==============================] - 29s 73ms/step - loss: 1.3097 - accuracy: 0.5344 - val_loss: 1.2343 - val_accuracy: 0.5635\n",
      "Epoch 39/50\n",
      "391/390 [==============================] - 28s 72ms/step - loss: 1.3055 - accuracy: 0.5361 - val_loss: 1.2301 - val_accuracy: 0.5639\n",
      "Epoch 40/50\n",
      "391/390 [==============================] - 28s 72ms/step - loss: 1.3028 - accuracy: 0.5378 - val_loss: 1.2320 - val_accuracy: 0.5646\n",
      "Epoch 41/50\n",
      "391/390 [==============================] - 28s 71ms/step - loss: 1.2976 - accuracy: 0.5401 - val_loss: 1.2314 - val_accuracy: 0.5675\n",
      "Epoch 42/50\n",
      "391/390 [==============================] - 28s 71ms/step - loss: 1.2879 - accuracy: 0.5445 - val_loss: 1.2696 - val_accuracy: 0.5402\n",
      "Epoch 43/50\n",
      "391/390 [==============================] - 28s 71ms/step - loss: 1.2860 - accuracy: 0.5464 - val_loss: 1.2224 - val_accuracy: 0.5684\n",
      "Epoch 44/50\n",
      "391/390 [==============================] - 28s 71ms/step - loss: 1.2787 - accuracy: 0.5469 - val_loss: 1.2571 - val_accuracy: 0.5559\n",
      "Epoch 45/50\n",
      "391/390 [==============================] - 28s 71ms/step - loss: 1.2773 - accuracy: 0.5479 - val_loss: 1.2589 - val_accuracy: 0.5563\n",
      "Epoch 46/50\n",
      "391/390 [==============================] - 28s 71ms/step - loss: 1.2737 - accuracy: 0.5469 - val_loss: 1.2177 - val_accuracy: 0.5713\n",
      "Epoch 47/50\n",
      "391/390 [==============================] - 27s 70ms/step - loss: 1.2636 - accuracy: 0.5528 - val_loss: 1.2197 - val_accuracy: 0.5667\n",
      "Epoch 48/50\n",
      "391/390 [==============================] - 28s 72ms/step - loss: 1.2592 - accuracy: 0.5535 - val_loss: 1.2131 - val_accuracy: 0.5702\n",
      "Epoch 49/50\n",
      "391/390 [==============================] - 28s 71ms/step - loss: 1.2573 - accuracy: 0.5546 - val_loss: 1.1850 - val_accuracy: 0.5853\n",
      "Epoch 50/50\n",
      "391/390 [==============================] - 27s 70ms/step - loss: 1.2567 - accuracy: 0.5543 - val_loss: 1.2237 - val_accuracy: 0.5709\n"
     ]
    }
   ],
   "source": [
    "datagen_LeNet = LeNetmodel.fit(datagen.flow(x_train, y_train, batch_size=128),\n",
    "                        steps_per_epoch=len(x_train) / 128, epochs = 50, validation_data=(x_test, y_test), verbose = 1)"
   ]
  },
  {
   "cell_type": "code",
   "execution_count": null,
   "metadata": {
    "colab": {
     "base_uri": "https://localhost:8080/",
     "height": 312
    },
    "colab_type": "code",
    "id": "6t_FiubnT6L1",
    "outputId": "71874e19-0b5b-4773-cb52-6ce68fc537bd"
   },
   "outputs": [
    {
     "data": {
      "text/plain": [
       "Text(0, 0.5, 'acc')"
      ]
     },
     "execution_count": 23,
     "metadata": {
      "tags": []
     },
     "output_type": "execute_result"
    },
    {
     "data": {
      "image/png": "[encoded data removed]",
      "text/plain": [
       "<Figure size 432x288 with 1 Axes>"
      ]
     },
     "metadata": {
      "needs_background": "light",
      "tags": []
     },
     "output_type": "display_data"
    }
   ],
   "source": [
    "f, ax = plt.subplots()\n",
    "ax.plot([None] + datagen_LeNet.history['accuracy'], 'o-')\n",
    "ax.plot([None] + datagen_LeNet.history['val_accuracy'], 'x-')\n",
    "# Plot legend and use the best location automatically: loc = 0.\n",
    "ax.legend(['Train acc', 'Validation acc'], loc = 0)\n",
    "ax.set_title('Training/Validation acc per Epoch')\n",
    "ax.set_xlabel('Epoch')\n",
    "ax.set_ylabel('acc')"
   ]
  },
  {
   "cell_type": "markdown",
   "metadata": {
    "colab_type": "text",
    "id": "gfKNOL-7q1gx"
   },
   "source": [
    "# **Keras VGG-16 (No Transfer Learning)**"
   ]
  },
  {
   "cell_type": "code",
   "execution_count": null,
   "metadata": {
    "colab": {
     "base_uri": "https://localhost:8080/",
     "height": 407
    },
    "colab_type": "code",
    "id": "FJRRW1mjq9KK",
    "outputId": "0a7c54e2-2a36-45bc-8b7f-b3b0c3668e7c"
   },
   "outputs": [
    {
     "name": "stdout",
     "output_type": "stream",
     "text": [
      "Model: \"sequential_1\"\n",
      "_________________________________________________________________\n",
      "Layer (type)                 Output Shape              Param #   \n",
      "=================================================================\n",
      "vgg16 (Model)                (None, 1, 1, 512)         14714688  \n",
      "_________________________________________________________________\n",
      "flatten (Flatten)            (None, 512)               0         \n",
      "_________________________________________________________________\n",
      "dense_1 (Dense)              (None, 2048)              1050624   \n",
      "_________________________________________________________________\n",
      "batch_normalization_94 (Batc (None, 2048)              8192      \n",
      "_________________________________________________________________\n",
      "dense_2 (Dense)              (None, 2048)              4196352   \n",
      "_________________________________________________________________\n",
      "batch_normalization_95 (Batc (None, 2048)              8192      \n",
      "_________________________________________________________________\n",
      "dense_3 (Dense)              (None, 10)                20490     \n",
      "=================================================================\n",
      "Total params: 19,998,538\n",
      "Trainable params: 19,990,346\n",
      "Non-trainable params: 8,192\n",
      "_________________________________________________________________\n"
     ]
    }
   ],
   "source": [
    "# keras.applications implementations of models\n",
    "input_shape = (32, 32, 3)\n",
    "X_input = Input(input_shape)\n",
    "\n",
    "VGG16no_tf = Sequential()\n",
    "VGG16no_tf.add(VGG16(include_top = False, weights = None, input_tensor = X_input, input_shape = input_shape))\n",
    "VGG16no_tf.add(Flatten())\n",
    "VGG16no_tf.add(layers.Dense(2048, activation='relu', kernel_regularizer=regularizers.l2(0.0005)))\n",
    "VGG16no_tf.add(layers.BatchNormalization())\n",
    "VGG16no_tf.add(layers.Dense(2048, activation='relu', kernel_regularizer=regularizers.l2(0.0005)))\n",
    "VGG16no_tf.add(layers.BatchNormalization())\n",
    "VGG16no_tf.add(Dense(10, activation = 'softmax'))\n",
    "\n",
    "VGG16no_tf.compile(optimizer='adam', loss='categorical_crossentropy', metrics=['accuracy'])\n",
    "VGG16no_tf.summary()"
   ]
  },
  {
   "cell_type": "code",
   "execution_count": null,
   "metadata": {
    "colab": {
     "base_uri": "https://localhost:8080/",
     "height": 1000
    },
    "colab_type": "code",
    "id": "RJUenGNDq9NV",
    "outputId": "5765eb05-29fa-42a2-f293-eb65e052730d"
   },
   "outputs": [
    {
     "name": "stdout",
     "output_type": "stream",
     "text": [
      "Epoch 1/50\n",
      "391/390 [==============================] - 24s 61ms/step - loss: 2.6921 - accuracy: 0.1963 - val_loss: 3.4372 - val_accuracy: 0.1091\n",
      "Epoch 2/50\n",
      "391/390 [==============================] - 23s 59ms/step - loss: 2.1360 - accuracy: 0.2655 - val_loss: 2.6236 - val_accuracy: 0.2810\n",
      "Epoch 3/50\n",
      "391/390 [==============================] - 23s 59ms/step - loss: 1.8437 - accuracy: 0.3403 - val_loss: 2.5494 - val_accuracy: 0.2334\n",
      "Epoch 4/50\n",
      "391/390 [==============================] - 23s 58ms/step - loss: 1.6551 - accuracy: 0.4168 - val_loss: 1.6767 - val_accuracy: 0.4081\n",
      "Epoch 5/50\n",
      "391/390 [==============================] - 23s 58ms/step - loss: 1.4829 - accuracy: 0.4834 - val_loss: 1.7173 - val_accuracy: 0.4728\n",
      "Epoch 6/50\n",
      "391/390 [==============================] - 23s 58ms/step - loss: 1.3249 - accuracy: 0.5637 - val_loss: 1.4834 - val_accuracy: 0.5462\n",
      "Epoch 7/50\n",
      "391/390 [==============================] - 22s 57ms/step - loss: 1.1983 - accuracy: 0.6123 - val_loss: 1.5846 - val_accuracy: 0.5666\n",
      "Epoch 8/50\n",
      "391/390 [==============================] - 23s 58ms/step - loss: 1.1170 - accuracy: 0.6452 - val_loss: 1.6838 - val_accuracy: 0.5107\n",
      "Epoch 9/50\n",
      "391/390 [==============================] - 23s 58ms/step - loss: 1.0393 - accuracy: 0.6713 - val_loss: 1.4648 - val_accuracy: 0.6173\n",
      "Epoch 10/50\n",
      "391/390 [==============================] - 23s 58ms/step - loss: 0.9739 - accuracy: 0.6969 - val_loss: 1.1598 - val_accuracy: 0.6263\n",
      "Epoch 11/50\n",
      "391/390 [==============================] - 23s 58ms/step - loss: 0.9196 - accuracy: 0.7193 - val_loss: 1296.2262 - val_accuracy: 0.1583\n",
      "Epoch 12/50\n",
      "391/390 [==============================] - 23s 59ms/step - loss: 0.8811 - accuracy: 0.7337 - val_loss: 2.9465 - val_accuracy: 0.4185\n",
      "Epoch 13/50\n",
      "391/390 [==============================] - 23s 58ms/step - loss: 0.8355 - accuracy: 0.7526 - val_loss: 0.9638 - val_accuracy: 0.7225\n",
      "Epoch 14/50\n",
      "391/390 [==============================] - 23s 59ms/step - loss: 0.8008 - accuracy: 0.7629 - val_loss: 350.2687 - val_accuracy: 0.1000\n",
      "Epoch 15/50\n",
      "391/390 [==============================] - 23s 58ms/step - loss: 0.7680 - accuracy: 0.7759 - val_loss: 4.5625 - val_accuracy: 0.3500\n",
      "Epoch 16/50\n",
      "391/390 [==============================] - 23s 58ms/step - loss: 0.7743 - accuracy: 0.7767 - val_loss: 3.1021 - val_accuracy: 0.3860\n",
      "Epoch 17/50\n",
      "391/390 [==============================] - 23s 58ms/step - loss: 0.6814 - accuracy: 0.8010 - val_loss: 1.6079 - val_accuracy: 0.5193\n",
      "Epoch 18/50\n",
      "391/390 [==============================] - 22s 57ms/step - loss: 0.6681 - accuracy: 0.8056 - val_loss: 1.3136 - val_accuracy: 0.6356\n",
      "Epoch 19/50\n",
      "391/390 [==============================] - 23s 58ms/step - loss: 0.6414 - accuracy: 0.8148 - val_loss: 1.1301 - val_accuracy: 0.6979\n",
      "Epoch 20/50\n",
      "391/390 [==============================] - 23s 58ms/step - loss: 0.6240 - accuracy: 0.8209 - val_loss: 0.9998 - val_accuracy: 0.7476\n",
      "Epoch 21/50\n",
      "391/390 [==============================] - 23s 58ms/step - loss: 0.5895 - accuracy: 0.8317 - val_loss: 0.8089 - val_accuracy: 0.7792\n",
      "Epoch 22/50\n",
      "391/390 [==============================] - 23s 58ms/step - loss: 0.5962 - accuracy: 0.8318 - val_loss: 1.0554 - val_accuracy: 0.7256\n",
      "Epoch 23/50\n",
      "391/390 [==============================] - 23s 58ms/step - loss: 0.5820 - accuracy: 0.8397 - val_loss: 1.7740 - val_accuracy: 0.5850\n",
      "Epoch 24/50\n",
      "391/390 [==============================] - 23s 58ms/step - loss: 0.5479 - accuracy: 0.8487 - val_loss: 0.7973 - val_accuracy: 0.7861\n",
      "Epoch 25/50\n",
      "391/390 [==============================] - 23s 58ms/step - loss: 0.5783 - accuracy: 0.8412 - val_loss: 0.8731 - val_accuracy: 0.7735\n",
      "Epoch 26/50\n",
      "391/390 [==============================] - 23s 58ms/step - loss: 0.4968 - accuracy: 0.8576 - val_loss: 0.6874 - val_accuracy: 0.8145\n",
      "Epoch 27/50\n",
      "391/390 [==============================] - 23s 59ms/step - loss: 0.4781 - accuracy: 0.8644 - val_loss: 0.6647 - val_accuracy: 0.8246\n",
      "Epoch 28/50\n",
      "391/390 [==============================] - 23s 58ms/step - loss: 0.5155 - accuracy: 0.8607 - val_loss: 0.8695 - val_accuracy: 0.7581\n",
      "Epoch 29/50\n",
      "391/390 [==============================] - 23s 58ms/step - loss: 0.4603 - accuracy: 0.8712 - val_loss: 0.7555 - val_accuracy: 0.8015\n",
      "Epoch 30/50\n",
      "391/390 [==============================] - 23s 59ms/step - loss: 0.4439 - accuracy: 0.8754 - val_loss: 0.9349 - val_accuracy: 0.7630\n",
      "Epoch 31/50\n",
      "391/390 [==============================] - 22s 57ms/step - loss: 0.4786 - accuracy: 0.8736 - val_loss: 0.6753 - val_accuracy: 0.8236\n",
      "Epoch 32/50\n",
      "391/390 [==============================] - 23s 58ms/step - loss: 0.4201 - accuracy: 0.8822 - val_loss: 1.2293 - val_accuracy: 0.7595\n",
      "Epoch 33/50\n",
      "391/390 [==============================] - 23s 59ms/step - loss: 0.4077 - accuracy: 0.8839 - val_loss: 0.8647 - val_accuracy: 0.7823\n",
      "Epoch 34/50\n",
      "391/390 [==============================] - 23s 58ms/step - loss: 0.3900 - accuracy: 0.8902 - val_loss: 0.7249 - val_accuracy: 0.8255\n",
      "Epoch 35/50\n",
      "391/390 [==============================] - 23s 58ms/step - loss: 0.3902 - accuracy: 0.8923 - val_loss: 0.6597 - val_accuracy: 0.8317\n",
      "Epoch 36/50\n",
      "391/390 [==============================] - 23s 58ms/step - loss: 0.3794 - accuracy: 0.8935 - val_loss: 0.5522 - val_accuracy: 0.8575\n",
      "Epoch 37/50\n",
      "391/390 [==============================] - 23s 58ms/step - loss: 0.3570 - accuracy: 0.9001 - val_loss: 0.7005 - val_accuracy: 0.8247\n",
      "Epoch 38/50\n",
      "391/390 [==============================] - 23s 58ms/step - loss: 0.3586 - accuracy: 0.9012 - val_loss: 0.7321 - val_accuracy: 0.8284\n",
      "Epoch 39/50\n",
      "391/390 [==============================] - 23s 58ms/step - loss: 0.3389 - accuracy: 0.9041 - val_loss: 0.5757 - val_accuracy: 0.8571\n",
      "Epoch 40/50\n",
      "391/390 [==============================] - 23s 58ms/step - loss: 0.3465 - accuracy: 0.9049 - val_loss: 1.0883 - val_accuracy: 0.7346\n",
      "Epoch 41/50\n",
      "391/390 [==============================] - 23s 59ms/step - loss: 0.3326 - accuracy: 0.9071 - val_loss: 0.5936 - val_accuracy: 0.8382\n",
      "Epoch 42/50\n",
      "391/390 [==============================] - 23s 58ms/step - loss: 0.3103 - accuracy: 0.9133 - val_loss: 0.7119 - val_accuracy: 0.8375\n",
      "Epoch 43/50\n",
      "391/390 [==============================] - 23s 58ms/step - loss: 0.3398 - accuracy: 0.9024 - val_loss: 0.6277 - val_accuracy: 0.8340\n",
      "Epoch 44/50\n",
      "391/390 [==============================] - 23s 58ms/step - loss: 0.3029 - accuracy: 0.9155 - val_loss: 0.7444 - val_accuracy: 0.8094\n",
      "Epoch 45/50\n",
      "391/390 [==============================] - 23s 58ms/step - loss: 0.2834 - accuracy: 0.9198 - val_loss: 0.5266 - val_accuracy: 0.8582\n",
      "Epoch 46/50\n",
      "391/390 [==============================] - 23s 58ms/step - loss: 0.2751 - accuracy: 0.9215 - val_loss: 0.7846 - val_accuracy: 0.8112\n",
      "Epoch 47/50\n",
      "391/390 [==============================] - 23s 58ms/step - loss: 0.2704 - accuracy: 0.9224 - val_loss: 0.5167 - val_accuracy: 0.8711\n",
      "Epoch 48/50\n",
      "391/390 [==============================] - 23s 58ms/step - loss: 0.2633 - accuracy: 0.9251 - val_loss: 0.7632 - val_accuracy: 0.8286\n",
      "Epoch 49/50\n",
      "391/390 [==============================] - 23s 58ms/step - loss: 0.2580 - accuracy: 0.9266 - val_loss: 1.1360 - val_accuracy: 0.8503\n",
      "Epoch 50/50\n",
      "391/390 [==============================] - 23s 58ms/step - loss: 0.2649 - accuracy: 0.9258 - val_loss: 0.5974 - val_accuracy: 0.8512\n"
     ]
    }
   ],
   "source": [
    "plot_untrained_VGG = VGG16no_tf.fit(datagen.flow(x_train, y_train, batch_size=128), \n",
    "                                              steps_per_epoch=len(x_train) / 128, epochs = 50, validation_data=(x_test, y_test), verbose = 1)"
   ]
  },
  {
   "cell_type": "code",
   "execution_count": null,
   "metadata": {
    "colab": {
     "base_uri": "https://localhost:8080/",
     "height": 312
    },
    "colab_type": "code",
    "id": "4uMhIEh4q9RY",
    "outputId": "75f7969e-23f8-4f3d-a86e-38b19b52d9c4"
   },
   "outputs": [
    {
     "data": {
      "text/plain": [
       "Text(0, 0.5, 'acc')"
      ]
     },
     "execution_count": 15,
     "metadata": {
      "tags": []
     },
     "output_type": "execute_result"
    },
    {
     "data": {
      "image/png": "[encoded data removed]",
      "text/plain": [
       "<Figure size 432x288 with 1 Axes>"
      ]
     },
     "metadata": {
      "needs_background": "light",
      "tags": []
     },
     "output_type": "display_data"
    }
   ],
   "source": [
    "f1, ax1 = plt.subplots()\n",
    "ax1.plot([None] + plot_untrained_VGG.history['accuracy'], 'o-')\n",
    "ax1.plot([None] + plot_untrained_VGG.history['val_accuracy'], 'x-')\n",
    "# Plot legend and use the best location automatically: loc = 0.\n",
    "ax1.legend(['Train acc', 'Validation acc'], loc = 0)\n",
    "ax1.set_title('Training/Validation acc per Epoch')\n",
    "ax1.set_xlabel('Epoch')\n",
    "ax1.set_ylabel('acc')"
   ]
  },
  {
   "cell_type": "markdown",
   "metadata": {
    "colab_type": "text",
    "id": "14B2Hk8MaZQG"
   },
   "source": [
    "# **Keras Inception V3 (No Transfer Learning)**"
   ]
  },
  {
   "cell_type": "code",
   "execution_count": null,
   "metadata": {
    "colab": {},
    "colab_type": "code",
    "id": "ZPFbwU2bL9mX"
   },
   "outputs": [],
   "source": [
    "# CODE BLOCK REQUIRED TO RESIZE IMAGES\n",
    "\n",
    "# for x_train:\n",
    "newImages = []\n",
    "\n",
    "for image in x_train:\n",
    "  newImage = skimage.transform.resize(image, (75, 75, 3), mode='constant')\n",
    "  newImages.append(newImage)\n",
    "\n",
    "newImages = np.stack(newImages, axis=0)\n",
    "\n",
    "inception_xtrain = newImages\n",
    "\n",
    "# for x_test:\n",
    "newImages = []\n",
    "\n",
    "for image in x_test:\n",
    "  newImage = skimage.transform.resize(image, (75, 75, 3), mode='constant')\n",
    "  newImages.append(newImage)\n",
    "\n",
    "newImages = np.stack(newImages, axis=0)\n",
    "\n",
    "inception_xtest = newImages"
   ]
  },
  {
   "cell_type": "code",
   "execution_count": null,
   "metadata": {
    "colab": {},
    "colab_type": "code",
    "id": "r9CX5LsG_WJM"
   },
   "outputs": [],
   "source": [
    "InceptionDatagen = ImageDataGenerator(\n",
    "    zca_whitening=False,  # apply ZCA whitening\n",
    "    rotation_range=15,  # randomly rotate images in the range (degrees, 0 to 180)\n",
    "    width_shift_range=0.1,  # randomly shift images horizontally (fraction of total width)\n",
    "    height_shift_range=0.1,  # randomly shift images vertically (fraction of total height)\n",
    "    horizontal_flip=True,  # randomly flip images\n",
    "    vertical_flip=False)  # randomly flip images"
   ]
  },
  {
   "cell_type": "code",
   "execution_count": null,
   "metadata": {
    "colab": {},
    "colab_type": "code",
    "id": "Jpau8wzT8Xsi"
   },
   "outputs": [],
   "source": [
    "# compute quantities required for featurewise normalization\n",
    "InceptionDatagen.fit(inception_xtrain)"
   ]
  },
  {
   "cell_type": "code",
   "execution_count": null,
   "metadata": {
    "colab": {
     "base_uri": "https://localhost:8080/",
     "height": 265
    },
    "colab_type": "code",
    "id": "_F-vBu3PxjIH",
    "outputId": "9a079bdc-ecfb-4808-ede2-c1131c623e27"
   },
   "outputs": [
    {
     "name": "stdout",
     "output_type": "stream",
     "text": [
      "Model: \"sequential\"\n",
      "_________________________________________________________________\n",
      "Layer (type)                 Output Shape              Param #   \n",
      "=================================================================\n",
      "inception_v3 (Model)         (None, 1, 1, 2048)        21802784  \n",
      "_________________________________________________________________\n",
      "global_average_pooling2d (Gl (None, 2048)              0         \n",
      "_________________________________________________________________\n",
      "dense (Dense)                (None, 10)                20490     \n",
      "=================================================================\n",
      "Total params: 21,823,274\n",
      "Trainable params: 21,788,842\n",
      "Non-trainable params: 34,432\n",
      "_________________________________________________________________\n"
     ]
    }
   ],
   "source": [
    "input_shape = (75, 75, 3)\n",
    "X_input = Input(input_shape)\n",
    "\n",
    "inceptionModel = Sequential()\n",
    "inceptionModel.add(InceptionV3(include_top = False, weights = None, input_tensor = X_input, input_shape = input_shape))\n",
    "inceptionModel.add(GlobalAveragePooling2D())\n",
    "inceptionModel.add(Dense(10, activation = 'softmax'))\n",
    "inceptionModel.compile(optimizer= 'adam', loss='categorical_crossentropy', metrics=['accuracy'])\n",
    "inceptionModel.summary()"
   ]
  },
  {
   "cell_type": "code",
   "execution_count": null,
   "metadata": {
    "colab": {
     "base_uri": "https://localhost:8080/",
     "height": 727
    },
    "colab_type": "code",
    "id": "b0saTalVzaOu",
    "outputId": "5d209ff4-0b59-4bc9-b529-511813952a23"
   },
   "outputs": [
    {
     "name": "stdout",
     "output_type": "stream",
     "text": [
      "Epoch 1/20\n",
      "391/390 [==============================] - 117s 300ms/step - loss: 1.6347 - accuracy: 0.4115 - val_loss: 1.8148 - val_accuracy: 0.4120\n",
      "Epoch 2/20\n",
      "391/390 [==============================] - 111s 284ms/step - loss: 1.4097 - accuracy: 0.5047 - val_loss: 2.2143 - val_accuracy: 0.3736\n",
      "Epoch 3/20\n",
      "391/390 [==============================] - 111s 284ms/step - loss: 1.3246 - accuracy: 0.5395 - val_loss: 1.3328 - val_accuracy: 0.5230\n",
      "Epoch 4/20\n",
      "391/390 [==============================] - 111s 284ms/step - loss: 1.1833 - accuracy: 0.5936 - val_loss: 2.1393 - val_accuracy: 0.5069\n",
      "Epoch 5/20\n",
      "391/390 [==============================] - 111s 284ms/step - loss: 1.1760 - accuracy: 0.6076 - val_loss: 1048.6116 - val_accuracy: 0.1000\n",
      "Epoch 6/20\n",
      "391/390 [==============================] - 111s 284ms/step - loss: 1.0276 - accuracy: 0.6408 - val_loss: 1.0615 - val_accuracy: 0.6429\n",
      "Epoch 7/20\n",
      "391/390 [==============================] - 111s 284ms/step - loss: 0.8108 - accuracy: 0.7178 - val_loss: 0.7780 - val_accuracy: 0.7347\n",
      "Epoch 8/20\n",
      "391/390 [==============================] - 111s 284ms/step - loss: 0.9088 - accuracy: 0.6894 - val_loss: 0.8556 - val_accuracy: 0.7040\n",
      "Epoch 9/20\n",
      "391/390 [==============================] - 111s 283ms/step - loss: 0.7166 - accuracy: 0.7500 - val_loss: 0.7178 - val_accuracy: 0.7594\n",
      "Epoch 10/20\n",
      "391/390 [==============================] - 111s 284ms/step - loss: 0.6973 - accuracy: 0.7588 - val_loss: 0.7461 - val_accuracy: 0.7450\n",
      "Epoch 11/20\n",
      "391/390 [==============================] - 111s 283ms/step - loss: 0.5977 - accuracy: 0.7947 - val_loss: 0.7030 - val_accuracy: 0.7672\n",
      "Epoch 12/20\n",
      "391/390 [==============================] - 111s 284ms/step - loss: 0.5567 - accuracy: 0.8085 - val_loss: 0.6943 - val_accuracy: 0.7710\n",
      "Epoch 13/20\n",
      "391/390 [==============================] - 111s 284ms/step - loss: 0.5278 - accuracy: 0.8180 - val_loss: 0.6200 - val_accuracy: 0.7919\n",
      "Epoch 14/20\n",
      "391/390 [==============================] - 111s 283ms/step - loss: 0.5094 - accuracy: 0.8266 - val_loss: 0.6130 - val_accuracy: 0.7960\n",
      "Epoch 15/20\n",
      "391/390 [==============================] - 111s 283ms/step - loss: 0.4691 - accuracy: 0.8415 - val_loss: 0.8745 - val_accuracy: 0.7513\n",
      "Epoch 16/20\n",
      "391/390 [==============================] - 111s 284ms/step - loss: 0.4611 - accuracy: 0.8430 - val_loss: 0.5589 - val_accuracy: 0.8165\n",
      "Epoch 17/20\n",
      "391/390 [==============================] - 111s 284ms/step - loss: 0.8712 - accuracy: 0.7189 - val_loss: 0.7795 - val_accuracy: 0.7348\n",
      "Epoch 18/20\n",
      "391/390 [==============================] - 111s 284ms/step - loss: 0.5291 - accuracy: 0.8169 - val_loss: 0.5396 - val_accuracy: 0.8199\n",
      "Epoch 19/20\n",
      "391/390 [==============================] - 111s 284ms/step - loss: 0.4394 - accuracy: 0.8480 - val_loss: 0.5147 - val_accuracy: 0.8297\n",
      "Epoch 20/20\n",
      "391/390 [==============================] - 111s 284ms/step - loss: 0.4047 - accuracy: 0.8623 - val_loss: 0.6196 - val_accuracy: 0.8033\n"
     ]
    }
   ],
   "source": [
    "plot_Inception = inceptionModel.fit(InceptionDatagen.flow(inception_xtrain, y_train, batch_size=128),\n",
    "                        steps_per_epoch=len(x_train) / 128, epochs = 20, validation_data=(inception_xtest, y_test), verbose = 1)"
   ]
  },
  {
   "cell_type": "code",
   "execution_count": null,
   "metadata": {
    "colab": {
     "base_uri": "https://localhost:8080/",
     "height": 312
    },
    "colab_type": "code",
    "id": "1y2hCEPoOBI2",
    "outputId": "01cfeab0-10bd-4028-cc2c-6f96c7634207"
   },
   "outputs": [
    {
     "data": {
      "text/plain": [
       "Text(0, 0.5, 'acc')"
      ]
     },
     "execution_count": 9,
     "metadata": {
      "tags": []
     },
     "output_type": "execute_result"
    },
    {
     "data": {
      "image/png": "[encoded data removed]",
      "text/plain": [
       "<Figure size 432x288 with 1 Axes>"
      ]
     },
     "metadata": {
      "needs_background": "light",
      "tags": []
     },
     "output_type": "display_data"
    }
   ],
   "source": [
    "f1, ax1 = plt.subplots()\n",
    "ax1.plot([None] + plot_Inception.history['accuracy'], 'o-')\n",
    "ax1.plot([None] + plot_Inception.history['val_accuracy'], 'x-')\n",
    "# Plot legend and use the best location automatically: loc = 0.\n",
    "ax1.legend(['Train acc', 'Validation acc'], loc = 0)\n",
    "ax1.set_title('Training/Validation acc per Epoch')\n",
    "ax1.set_xlabel('Epoch')\n",
    "ax1.set_ylabel('acc')"
   ]
  },
  {
   "cell_type": "markdown",
   "metadata": {
    "colab_type": "text",
    "id": "ESruTQziaH2Q"
   },
   "source": [
    "# **Keras Inception V3 (Transfer Learning)**"
   ]
  },
  {
   "cell_type": "code",
   "execution_count": null,
   "metadata": {
    "colab": {
     "base_uri": "https://localhost:8080/",
     "height": 301
    },
    "colab_type": "code",
    "id": "9r9S4VPfZeA6",
    "outputId": "86f7e5c6-470a-4abf-f62e-a393eb85a36e"
   },
   "outputs": [
    {
     "name": "stdout",
     "output_type": "stream",
     "text": [
      "Downloading data from https://storage.googleapis.com/tensorflow/keras-applications/inception_v3/inception_v3_weights_tf_dim_ordering_tf_kernels_notop.h5\n",
      "87916544/87910968 [==============================] - 1s 0us/step\n",
      "Model: \"sequential\"\n",
      "_________________________________________________________________\n",
      "Layer (type)                 Output Shape              Param #   \n",
      "=================================================================\n",
      "inception_v3 (Model)         (None, 1, 1, 2048)        21802784  \n",
      "_________________________________________________________________\n",
      "global_average_pooling2d (Gl (None, 2048)              0         \n",
      "_________________________________________________________________\n",
      "dense (Dense)                (None, 10)                20490     \n",
      "=================================================================\n",
      "Total params: 21,823,274\n",
      "Trainable params: 20,490\n",
      "Non-trainable params: 21,802,784\n",
      "_________________________________________________________________\n"
     ]
    }
   ],
   "source": [
    "input_shape = (75, 75, 3)\n",
    "X_input = Input(input_shape)\n",
    "\n",
    "inceptionModeltf = Sequential()\n",
    "inceptionModeltf.add(InceptionV3(include_top = False, weights = 'imagenet', input_tensor = X_input, input_shape = input_shape))\n",
    "inceptionModeltf.add(GlobalAveragePooling2D())\n",
    "inceptionModeltf.add(Dense(10, activation = 'softmax'))\n",
    "inceptionModeltf.compile(optimizer= 'adam', loss='categorical_crossentropy', metrics=['accuracy'])\n",
    "inceptionModeltf.layers[0].trainable = False\n",
    "inceptionModeltf.summary()"
   ]
  },
  {
   "cell_type": "code",
   "execution_count": null,
   "metadata": {
    "colab": {
     "base_uri": "https://localhost:8080/",
     "height": 781
    },
    "colab_type": "code",
    "id": "s7EelNxhabIT",
    "outputId": "7899b861-95fd-42ba-edb3-c07d86a3c119"
   },
   "outputs": [
    {
     "name": "stdout",
     "output_type": "stream",
     "text": [
      "WARNING:tensorflow:From <ipython-input-7-e0d88118fb67>:2: Model.fit_generator (from tensorflow.python.keras.engine.training) is deprecated and will be removed in a future version.\n",
      "Instructions for updating:\n",
      "Please use Model.fit, which supports generators.\n",
      "Epoch 1/20\n",
      "391/390 [==============================] - 70s 180ms/step - loss: 0.8723 - accuracy: 0.7113 - val_loss: 0.9098 - val_accuracy: 0.7062\n",
      "Epoch 2/20\n",
      "391/390 [==============================] - 68s 175ms/step - loss: 0.6413 - accuracy: 0.7897 - val_loss: 1.0884 - val_accuracy: 0.6597\n",
      "Epoch 3/20\n",
      "391/390 [==============================] - 68s 174ms/step - loss: 0.4806 - accuracy: 0.8390 - val_loss: 0.4755 - val_accuracy: 0.8380\n",
      "Epoch 4/20\n",
      "391/390 [==============================] - 68s 174ms/step - loss: 0.3856 - accuracy: 0.8695 - val_loss: 0.4793 - val_accuracy: 0.8450\n",
      "Epoch 5/20\n",
      "391/390 [==============================] - 68s 174ms/step - loss: 0.3800 - accuracy: 0.8721 - val_loss: 0.6472 - val_accuracy: 0.7893\n",
      "Epoch 6/20\n",
      "391/390 [==============================] - 68s 175ms/step - loss: 0.3202 - accuracy: 0.8917 - val_loss: 0.7950 - val_accuracy: 0.7654\n",
      "Epoch 7/20\n",
      "391/390 [==============================] - 68s 174ms/step - loss: 0.2905 - accuracy: 0.9003 - val_loss: 0.4412 - val_accuracy: 0.8581\n",
      "Epoch 8/20\n",
      "391/390 [==============================] - 68s 174ms/step - loss: 0.2727 - accuracy: 0.9080 - val_loss: 0.3918 - val_accuracy: 0.8717\n",
      "Epoch 9/20\n",
      "391/390 [==============================] - 68s 175ms/step - loss: 0.2653 - accuracy: 0.9091 - val_loss: 0.4003 - val_accuracy: 0.8699\n",
      "Epoch 10/20\n",
      "391/390 [==============================] - 68s 175ms/step - loss: 0.2401 - accuracy: 0.9174 - val_loss: 0.4461 - val_accuracy: 0.8589\n",
      "Epoch 11/20\n",
      "391/390 [==============================] - 68s 174ms/step - loss: 0.2237 - accuracy: 0.9229 - val_loss: 0.4549 - val_accuracy: 0.8575\n",
      "Epoch 12/20\n",
      "391/390 [==============================] - 68s 173ms/step - loss: 0.2853 - accuracy: 0.9099 - val_loss: 22.9587 - val_accuracy: 0.2677\n",
      "Epoch 13/20\n",
      "391/390 [==============================] - 68s 173ms/step - loss: 0.4507 - accuracy: 0.8533 - val_loss: 0.4145 - val_accuracy: 0.8656\n",
      "Epoch 14/20\n",
      "391/390 [==============================] - 68s 174ms/step - loss: 0.2278 - accuracy: 0.9204 - val_loss: 0.3229 - val_accuracy: 0.8939\n",
      "Epoch 15/20\n",
      "391/390 [==============================] - 68s 175ms/step - loss: 0.1917 - accuracy: 0.9333 - val_loss: 0.4538 - val_accuracy: 0.8808\n",
      "Epoch 16/20\n",
      "391/390 [==============================] - 68s 174ms/step - loss: 0.1807 - accuracy: 0.9381 - val_loss: 0.3447 - val_accuracy: 0.8922\n",
      "Epoch 17/20\n",
      "391/390 [==============================] - 68s 174ms/step - loss: 0.1684 - accuracy: 0.9420 - val_loss: 0.3967 - val_accuracy: 0.8739\n",
      "Epoch 18/20\n",
      "391/390 [==============================] - 69s 175ms/step - loss: 0.1575 - accuracy: 0.9459 - val_loss: 0.3908 - val_accuracy: 0.8829\n",
      "Epoch 19/20\n",
      "391/390 [==============================] - 68s 174ms/step - loss: 0.1822 - accuracy: 0.9363 - val_loss: 0.4113 - val_accuracy: 0.8720\n",
      "Epoch 20/20\n",
      "391/390 [==============================] - 68s 173ms/step - loss: 0.1551 - accuracy: 0.9473 - val_loss: 0.4037 - val_accuracy: 0.8799\n"
     ]
    }
   ],
   "source": [
    "plot_pretrained_Inception = inceptionModeltf.fit(InceptionDatagen.flow(inception_xtrain, y_train, batch_size=128),\n",
    "                        steps_per_epoch=len(x_train) / 128, epochs = 20, validation_data=(inception_xtest, y_test), verbose = 1)"
   ]
  },
  {
   "cell_type": "code",
   "execution_count": null,
   "metadata": {
    "colab": {
     "base_uri": "https://localhost:8080/",
     "height": 312
    },
    "colab_type": "code",
    "id": "EcupT9nDeCjq",
    "outputId": "5de0142a-19ef-4b16-8854-19bd18a926b5"
   },
   "outputs": [
    {
     "data": {
      "text/plain": [
       "Text(0, 0.5, 'acc')"
      ]
     },
     "execution_count": 8,
     "metadata": {
      "tags": []
     },
     "output_type": "execute_result"
    },
    {
     "data": {
      "image/png": "[encoded data removed]",
      "text/plain": [
       "<Figure size 432x288 with 1 Axes>"
      ]
     },
     "metadata": {
      "needs_background": "light",
      "tags": []
     },
     "output_type": "display_data"
    }
   ],
   "source": [
    "f1, ax1 = plt.subplots()\n",
    "ax1.plot([None] + plot_pretrained_Inception.history['accuracy'], 'o-')\n",
    "ax1.plot([None] + plot_pretrained_Inception.history['val_accuracy'], 'x-')\n",
    "# Plot legend and use the best location automatically: loc = 0.\n",
    "ax1.legend(['Train acc', 'Validation acc'], loc = 0)\n",
    "ax1.set_title('Training/Validation acc per Epoch')\n",
    "ax1.set_xlabel('Epoch')\n",
    "ax1.set_ylabel('acc')"
   ]
  },
  {
   "cell_type": "markdown",
   "metadata": {
    "colab_type": "text",
    "id": "Gp0EWOjmutDt"
   },
   "source": [
    "# **AlexNet**"
   ]
  },
  {
   "cell_type": "code",
   "execution_count": null,
   "metadata": {
    "colab": {},
    "colab_type": "code",
    "id": "QcBb-1ThusOw"
   },
   "outputs": [],
   "source": [
    "def AlexNetModel():\n",
    "    #Instantiate an empty model\n",
    "    AlexNet = Sequential()\n",
    "\n",
    "    # LAYER 1\n",
    "    AlexNet.add(layers.Conv2D(96, kernel_size=(11, 11), strides=(4, 4), activation='relu', input_shape=(32,32,3), padding=\"same\"))\n",
    "    ## pooling\n",
    "    AlexNet.add(layers.MaxPooling2D(pool_size=(3, 3), strides=(2, 2), padding=\"same\"))\n",
    "    AlexNet.add(layers.BatchNormalization())\n",
    "\n",
    "    # LAYER 2\n",
    "    AlexNet.add(layers.ZeroPadding2D(padding=(2, 2)))\n",
    "    AlexNet.add(layers.Conv2D(256, kernel_size=(5, 5), strides=(1, 1), activation='relu', padding=\"same\"))\n",
    "    ## pooling\n",
    "    AlexNet.add(layers.MaxPooling2D(pool_size=(3, 3), strides=(2, 2), padding=\"same\"))\n",
    "    AlexNet.add(layers.BatchNormalization())\n",
    "\n",
    "    # LAYER 3\n",
    "    AlexNet.add(layers.ZeroPadding2D(padding=(1, 1)))\n",
    "    AlexNet.add(layers.Conv2D(384, kernel_size=(3, 3), strides=(1, 1), activation='relu', padding=\"same\"))\n",
    "\n",
    "    # LAYER 4\n",
    "    AlexNet.add(layers.ZeroPadding2D(padding=(1, 1)))\n",
    "    AlexNet.add(layers.Conv2D(384, kernel_size=(3, 3), strides=(1, 1), activation='relu', padding=\"same\"))\n",
    "\n",
    "    # LAYER 5\n",
    "    AlexNet.add(layers.ZeroPadding2D(padding=(1, 1)))\n",
    "    AlexNet.add(layers.Conv2D(256, kernel_size=(3, 3), strides=(1, 1), activation='relu', padding=\"same\"))\n",
    "    ## pooling\n",
    "    AlexNet.add(layers.MaxPooling2D(pool_size=(3, 3), strides=(2, 2), padding=\"same\"))\n",
    "\n",
    "    # Flatten the CNN output so that we can connect it with fully connected layers\n",
    "    AlexNet.add(layers.Flatten())\n",
    "\n",
    "    # FC6 Fully Connected Layer\n",
    "    AlexNet.add(layers.Dense(4096, activation='relu'))\n",
    "    AlexNet.add(layers.Dropout(0.5))\n",
    "\n",
    "    # FC7 Fully Connected Layer\n",
    "    AlexNet.add(layers.Dense(4096, activation='relu'))\n",
    "    AlexNet.add(layers.Dropout(0.5))\n",
    "\n",
    "    # Output Layer with softmax activation\n",
    "    AlexNet.add(layers.Dense(10, activation=\"softmax\"))\n",
    "\n",
    "    # Compile the model\n",
    "    AlexNet.compile(loss='categorical_crossentropy', optimizer='sgd', metrics=[\"accuracy\"])\n",
    "\n",
    "    return AlexNet"
   ]
  },
  {
   "cell_type": "code",
   "execution_count": null,
   "metadata": {
    "colab": {
     "base_uri": "https://localhost:8080/",
     "height": 833
    },
    "colab_type": "code",
    "id": "_6an9eTgyD2I",
    "outputId": "2719e7d3-d145-4d3a-f1d9-db33ca147c90"
   },
   "outputs": [
    {
     "name": "stdout",
     "output_type": "stream",
     "text": [
      "Model: \"sequential_1\"\n",
      "_________________________________________________________________\n",
      "Layer (type)                 Output Shape              Param #   \n",
      "=================================================================\n",
      "conv2d_2 (Conv2D)            (None, 8, 8, 96)          34944     \n",
      "_________________________________________________________________\n",
      "max_pooling2d (MaxPooling2D) (None, 4, 4, 96)          0         \n",
      "_________________________________________________________________\n",
      "batch_normalization (BatchNo (None, 4, 4, 96)          384       \n",
      "_________________________________________________________________\n",
      "zero_padding2d (ZeroPadding2 (None, 8, 8, 96)          0         \n",
      "_________________________________________________________________\n",
      "conv2d_3 (Conv2D)            (None, 8, 8, 256)         614656    \n",
      "_________________________________________________________________\n",
      "max_pooling2d_1 (MaxPooling2 (None, 4, 4, 256)         0         \n",
      "_________________________________________________________________\n",
      "batch_normalization_1 (Batch (None, 4, 4, 256)         1024      \n",
      "_________________________________________________________________\n",
      "zero_padding2d_1 (ZeroPaddin (None, 6, 6, 256)         0         \n",
      "_________________________________________________________________\n",
      "conv2d_4 (Conv2D)            (None, 6, 6, 384)         885120    \n",
      "_________________________________________________________________\n",
      "zero_padding2d_2 (ZeroPaddin (None, 8, 8, 384)         0         \n",
      "_________________________________________________________________\n",
      "conv2d_5 (Conv2D)            (None, 8, 8, 384)         1327488   \n",
      "_________________________________________________________________\n",
      "zero_padding2d_3 (ZeroPaddin (None, 10, 10, 384)       0         \n",
      "_________________________________________________________________\n",
      "conv2d_6 (Conv2D)            (None, 10, 10, 256)       884992    \n",
      "_________________________________________________________________\n",
      "max_pooling2d_2 (MaxPooling2 (None, 5, 5, 256)         0         \n",
      "_________________________________________________________________\n",
      "flatten_1 (Flatten)          (None, 6400)              0         \n",
      "_________________________________________________________________\n",
      "dense_3 (Dense)              (None, 4096)              26218496  \n",
      "_________________________________________________________________\n",
      "dropout (Dropout)            (None, 4096)              0         \n",
      "_________________________________________________________________\n",
      "dense_4 (Dense)              (None, 4096)              16781312  \n",
      "_________________________________________________________________\n",
      "dropout_1 (Dropout)          (None, 4096)              0         \n",
      "_________________________________________________________________\n",
      "dense_5 (Dense)              (None, 10)                40970     \n",
      "=================================================================\n",
      "Total params: 46,789,386\n",
      "Trainable params: 46,788,682\n",
      "Non-trainable params: 704\n",
      "_________________________________________________________________\n"
     ]
    }
   ],
   "source": [
    "AlexNet = AlexNetModel()\n",
    "AlexNet.summary()"
   ]
  },
  {
   "cell_type": "code",
   "execution_count": null,
   "metadata": {
    "colab": {
     "base_uri": "https://localhost:8080/",
     "height": 1000
    },
    "colab_type": "code",
    "id": "DbKKRbn2yD4r",
    "outputId": "e5df89b0-a87f-446d-9de1-4443e0e4fd0a"
   },
   "outputs": [
    {
     "name": "stdout",
     "output_type": "stream",
     "text": [
      "WARNING:tensorflow:From <ipython-input-10-0c500afeaef1>:2: Model.fit_generator (from tensorflow.python.keras.engine.training) is deprecated and will be removed in a future version.\n",
      "Instructions for updating:\n",
      "Please use Model.fit, which supports generators.\n",
      "Epoch 1/50\n",
      "391/390 [==============================] - 31s 79ms/step - loss: 1.8906 - accuracy: 0.2928 - val_loss: 1.8446 - val_accuracy: 0.3349\n",
      "Epoch 2/50\n",
      "391/390 [==============================] - 30s 77ms/step - loss: 1.5718 - accuracy: 0.4152 - val_loss: 1.9664 - val_accuracy: 0.3404\n",
      "Epoch 3/50\n",
      "391/390 [==============================] - 30s 77ms/step - loss: 1.4380 - accuracy: 0.4720 - val_loss: 1.3400 - val_accuracy: 0.5068\n",
      "Epoch 4/50\n",
      "391/390 [==============================] - 31s 78ms/step - loss: 1.3466 - accuracy: 0.5134 - val_loss: 1.4493 - val_accuracy: 0.4815\n",
      "Epoch 5/50\n",
      "391/390 [==============================] - 30s 77ms/step - loss: 1.2805 - accuracy: 0.5385 - val_loss: 1.2952 - val_accuracy: 0.5253\n",
      "Epoch 6/50\n",
      "391/390 [==============================] - 31s 78ms/step - loss: 1.2310 - accuracy: 0.5575 - val_loss: 1.7538 - val_accuracy: 0.4428\n",
      "Epoch 7/50\n",
      "391/390 [==============================] - 30s 77ms/step - loss: 1.1793 - accuracy: 0.5783 - val_loss: 1.1855 - val_accuracy: 0.5570\n",
      "Epoch 8/50\n",
      "391/390 [==============================] - 30s 77ms/step - loss: 1.1421 - accuracy: 0.5906 - val_loss: 1.2327 - val_accuracy: 0.5621\n",
      "Epoch 9/50\n",
      "391/390 [==============================] - 30s 77ms/step - loss: 1.1077 - accuracy: 0.6019 - val_loss: 1.1362 - val_accuracy: 0.5855\n",
      "Epoch 10/50\n",
      "391/390 [==============================] - 30s 78ms/step - loss: 1.0739 - accuracy: 0.6179 - val_loss: 1.2322 - val_accuracy: 0.5603\n",
      "Epoch 11/50\n",
      "391/390 [==============================] - 30s 78ms/step - loss: 1.0379 - accuracy: 0.6325 - val_loss: 1.3071 - val_accuracy: 0.5543\n",
      "Epoch 12/50\n",
      "391/390 [==============================] - 30s 77ms/step - loss: 1.0163 - accuracy: 0.6388 - val_loss: 1.1119 - val_accuracy: 0.6103\n",
      "Epoch 13/50\n",
      "391/390 [==============================] - 30s 78ms/step - loss: 0.9878 - accuracy: 0.6498 - val_loss: 1.0434 - val_accuracy: 0.6284\n",
      "Epoch 14/50\n",
      "391/390 [==============================] - 31s 79ms/step - loss: 0.9616 - accuracy: 0.6611 - val_loss: 1.1869 - val_accuracy: 0.5986\n",
      "Epoch 15/50\n",
      "391/390 [==============================] - 30s 78ms/step - loss: 0.9480 - accuracy: 0.6662 - val_loss: 1.3262 - val_accuracy: 0.5770\n",
      "Epoch 16/50\n",
      "391/390 [==============================] - 30s 77ms/step - loss: 0.9238 - accuracy: 0.6722 - val_loss: 1.1562 - val_accuracy: 0.6026\n",
      "Epoch 17/50\n",
      "391/390 [==============================] - 30s 78ms/step - loss: 0.9046 - accuracy: 0.6823 - val_loss: 0.9760 - val_accuracy: 0.6565\n",
      "Epoch 18/50\n",
      "391/390 [==============================] - 30s 77ms/step - loss: 0.8883 - accuracy: 0.6848 - val_loss: 1.0470 - val_accuracy: 0.6350\n",
      "Epoch 19/50\n",
      "391/390 [==============================] - 30s 77ms/step - loss: 0.8761 - accuracy: 0.6910 - val_loss: 1.0061 - val_accuracy: 0.6506\n",
      "Epoch 20/50\n",
      "391/390 [==============================] - 30s 78ms/step - loss: 0.8601 - accuracy: 0.6940 - val_loss: 0.9585 - val_accuracy: 0.6710\n",
      "Epoch 21/50\n",
      "391/390 [==============================] - 31s 78ms/step - loss: 0.8478 - accuracy: 0.7003 - val_loss: 1.0983 - val_accuracy: 0.6299\n",
      "Epoch 22/50\n",
      "391/390 [==============================] - 30s 78ms/step - loss: 0.8279 - accuracy: 0.7088 - val_loss: 0.9625 - val_accuracy: 0.6627\n",
      "Epoch 23/50\n",
      "391/390 [==============================] - 30s 78ms/step - loss: 0.8097 - accuracy: 0.7147 - val_loss: 0.9441 - val_accuracy: 0.6711\n",
      "Epoch 24/50\n",
      "391/390 [==============================] - 30s 78ms/step - loss: 0.8002 - accuracy: 0.7187 - val_loss: 0.8658 - val_accuracy: 0.6990\n",
      "Epoch 25/50\n",
      "391/390 [==============================] - 30s 76ms/step - loss: 0.7901 - accuracy: 0.7214 - val_loss: 0.8736 - val_accuracy: 0.7033\n",
      "Epoch 26/50\n",
      "391/390 [==============================] - 29s 75ms/step - loss: 0.7750 - accuracy: 0.7281 - val_loss: 1.0043 - val_accuracy: 0.6595\n",
      "Epoch 27/50\n",
      "391/390 [==============================] - 30s 76ms/step - loss: 0.7649 - accuracy: 0.7311 - val_loss: 0.8632 - val_accuracy: 0.7017\n",
      "Epoch 28/50\n",
      "391/390 [==============================] - 29s 74ms/step - loss: 0.7465 - accuracy: 0.7376 - val_loss: 0.8980 - val_accuracy: 0.6887\n",
      "Epoch 29/50\n",
      "391/390 [==============================] - 29s 74ms/step - loss: 0.7376 - accuracy: 0.7382 - val_loss: 0.8268 - val_accuracy: 0.7176\n",
      "Epoch 30/50\n",
      "391/390 [==============================] - 29s 74ms/step - loss: 0.7306 - accuracy: 0.7428 - val_loss: 0.9018 - val_accuracy: 0.6957\n",
      "Epoch 31/50\n",
      "391/390 [==============================] - 30s 77ms/step - loss: 0.7150 - accuracy: 0.7489 - val_loss: 0.9234 - val_accuracy: 0.6911\n",
      "Epoch 32/50\n",
      "391/390 [==============================] - 30s 77ms/step - loss: 0.7060 - accuracy: 0.7514 - val_loss: 1.0400 - val_accuracy: 0.6532\n",
      "Epoch 33/50\n",
      "391/390 [==============================] - 30s 77ms/step - loss: 0.6988 - accuracy: 0.7547 - val_loss: 0.9853 - val_accuracy: 0.6880\n",
      "Epoch 34/50\n",
      "391/390 [==============================] - 30s 76ms/step - loss: 0.6893 - accuracy: 0.7590 - val_loss: 0.8684 - val_accuracy: 0.7057\n",
      "Epoch 35/50\n",
      "391/390 [==============================] - 30s 78ms/step - loss: 0.6729 - accuracy: 0.7627 - val_loss: 0.9818 - val_accuracy: 0.6664\n",
      "Epoch 36/50\n",
      "391/390 [==============================] - 30s 77ms/step - loss: 0.6662 - accuracy: 0.7656 - val_loss: 0.8807 - val_accuracy: 0.7014\n",
      "Epoch 37/50\n",
      "391/390 [==============================] - 30s 77ms/step - loss: 0.6569 - accuracy: 0.7675 - val_loss: 0.9156 - val_accuracy: 0.7024\n",
      "Epoch 38/50\n",
      "391/390 [==============================] - 30s 77ms/step - loss: 0.6450 - accuracy: 0.7736 - val_loss: 1.0321 - val_accuracy: 0.6638\n",
      "Epoch 39/50\n",
      "391/390 [==============================] - 30s 78ms/step - loss: 0.6483 - accuracy: 0.7715 - val_loss: 0.8127 - val_accuracy: 0.7244\n",
      "Epoch 40/50\n",
      "391/390 [==============================] - 30s 77ms/step - loss: 0.6283 - accuracy: 0.7800 - val_loss: 0.7806 - val_accuracy: 0.7339\n",
      "Epoch 41/50\n",
      "391/390 [==============================] - 30s 77ms/step - loss: 0.6240 - accuracy: 0.7803 - val_loss: 0.8750 - val_accuracy: 0.7085\n",
      "Epoch 42/50\n",
      "391/390 [==============================] - 30s 77ms/step - loss: 0.6144 - accuracy: 0.7843 - val_loss: 0.8805 - val_accuracy: 0.7016\n",
      "Epoch 43/50\n",
      "391/390 [==============================] - 30s 77ms/step - loss: 0.6068 - accuracy: 0.7838 - val_loss: 0.8825 - val_accuracy: 0.7012\n",
      "Epoch 44/50\n",
      "391/390 [==============================] - 30s 77ms/step - loss: 0.5996 - accuracy: 0.7899 - val_loss: 1.2191 - val_accuracy: 0.6302\n",
      "Epoch 45/50\n",
      "391/390 [==============================] - 31s 79ms/step - loss: 0.5911 - accuracy: 0.7909 - val_loss: 0.9700 - val_accuracy: 0.6952\n",
      "Epoch 46/50\n",
      "391/390 [==============================] - 30s 78ms/step - loss: 0.5756 - accuracy: 0.7970 - val_loss: 1.0431 - val_accuracy: 0.6843\n",
      "Epoch 47/50\n",
      "391/390 [==============================] - 31s 78ms/step - loss: 0.5677 - accuracy: 0.8014 - val_loss: 0.8314 - val_accuracy: 0.7354\n",
      "Epoch 48/50\n",
      "391/390 [==============================] - 30s 77ms/step - loss: 0.5638 - accuracy: 0.8020 - val_loss: 0.8922 - val_accuracy: 0.7129\n",
      "Epoch 49/50\n",
      "391/390 [==============================] - 30s 77ms/step - loss: 0.5539 - accuracy: 0.8046 - val_loss: 0.9046 - val_accuracy: 0.7120\n",
      "Epoch 50/50\n",
      "391/390 [==============================] - 30s 78ms/step - loss: 0.5452 - accuracy: 0.8073 - val_loss: 0.8292 - val_accuracy: 0.7261\n"
     ]
    }
   ],
   "source": [
    "alexnet = AlexNet.fit_generator(datagen.flow(x_train, y_train, batch_size=128), \n",
    "                           steps_per_epoch=len(x_train) / 128, epochs = 50, validation_data=(x_test, y_test), verbose = 1)"
   ]
  },
  {
   "cell_type": "code",
   "execution_count": null,
   "metadata": {
    "colab": {
     "base_uri": "https://localhost:8080/",
     "height": 312
    },
    "colab_type": "code",
    "id": "1B_yTbQymZjE",
    "outputId": "8d9d25bd-8950-4856-87c2-396cc790ea26"
   },
   "outputs": [
    {
     "data": {
      "text/plain": [
       "Text(0, 0.5, 'acc')"
      ]
     },
     "execution_count": 11,
     "metadata": {
      "tags": []
     },
     "output_type": "execute_result"
    },
    {
     "data": {
      "image/png": "[encoded data removed]",
      "text/plain": [
       "<Figure size 432x288 with 1 Axes>"
      ]
     },
     "metadata": {
      "needs_background": "light",
      "tags": []
     },
     "output_type": "display_data"
    }
   ],
   "source": [
    "f1, ax1 = plt.subplots()\n",
    "ax1.plot([None] + alexnet.history['accuracy'], 'o-')\n",
    "ax1.plot([None] + alexnet.history['val_accuracy'], 'x-')\n",
    "# Plot legend and use the best location automatically: loc = 0.\n",
    "ax1.legend(['Train acc', 'Validation acc'], loc = 0)\n",
    "ax1.set_title('Training/Validation acc per Epoch')\n",
    "ax1.set_xlabel('Epoch')\n",
    "ax1.set_ylabel('acc')"
   ]
  },
  {
   "cell_type": "markdown",
   "metadata": {
    "colab_type": "text",
    "id": "KBUzNWGOzKvg"
   },
   "source": [
    "# **Resnet (Transfer Learning)**"
   ]
  },
  {
   "cell_type": "code",
   "execution_count": null,
   "metadata": {
    "colab": {
     "base_uri": "https://localhost:8080/",
     "height": 478
    },
    "colab_type": "code",
    "id": "pqJkLMvlysj0",
    "outputId": "be51fe06-f0b4-47fb-ff74-eb83590b07f7"
   },
   "outputs": [
    {
     "name": "stdout",
     "output_type": "stream",
     "text": [
      "Downloading data from https://storage.googleapis.com/tensorflow/keras-applications/resnet/resnet50_weights_tf_dim_ordering_tf_kernels_notop.h5\n",
      "94773248/94765736 [==============================] - 2s 0us/step\n",
      "Model: \"sequential\"\n",
      "_________________________________________________________________\n",
      "Layer (type)                 Output Shape              Param #   \n",
      "=================================================================\n",
      "resnet50 (Model)             (None, 2048)              23587712  \n",
      "_________________________________________________________________\n",
      "flatten (Flatten)            (None, 2048)              0         \n",
      "_________________________________________________________________\n",
      "batch_normalization (BatchNo (None, 2048)              8192      \n",
      "_________________________________________________________________\n",
      "dense (Dense)                (None, 2048)              4196352   \n",
      "_________________________________________________________________\n",
      "batch_normalization_1 (Batch (None, 2048)              8192      \n",
      "_________________________________________________________________\n",
      "dense_1 (Dense)              (None, 1024)              2098176   \n",
      "_________________________________________________________________\n",
      "batch_normalization_2 (Batch (None, 1024)              4096      \n",
      "_________________________________________________________________\n",
      "dense_2 (Dense)              (None, 10)                10250     \n",
      "=================================================================\n",
      "Total params: 29,912,970\n",
      "Trainable params: 6,315,018\n",
      "Non-trainable params: 23,597,952\n",
      "_________________________________________________________________\n"
     ]
    }
   ],
   "source": [
    "ResNet = Sequential()\n",
    "\n",
    "ResNet.add(ResNet50(include_top=False, pooling='avg', weights='imagenet'))\n",
    "ResNet.add(Flatten())\n",
    "ResNet.add(BatchNormalization())\n",
    "ResNet.add(Dense(2048, activation='relu'))\n",
    "ResNet.add(BatchNormalization())\n",
    "ResNet.add(Dense(1024, activation='relu'))\n",
    "ResNet.add(BatchNormalization())\n",
    "ResNet.add(Dense(10, activation='softmax'))\n",
    "\n",
    "ResNet.layers[0].trainable = False\n",
    "\n",
    "ResNet.compile(optimizer='adam', loss='categorical_crossentropy', metrics=['accuracy'])\n",
    "ResNet.summary()"
   ]
  },
  {
   "cell_type": "code",
   "execution_count": null,
   "metadata": {
    "colab": {
     "base_uri": "https://localhost:8080/",
     "height": 1000
    },
    "colab_type": "code",
    "id": "lsE44bdAzH66",
    "outputId": "61ba5079-bc47-4f56-c6af-d03b85a3eac1"
   },
   "outputs": [
    {
     "name": "stdout",
     "output_type": "stream",
     "text": [
      "Epoch 1/50\n",
      "391/390 [==============================] - 41s 104ms/step - loss: 1.4756 - accuracy: 0.5097 - val_loss: 1.2212 - val_accuracy: 0.5787\n",
      "Epoch 2/50\n",
      "391/390 [==============================] - 39s 100ms/step - loss: 1.2249 - accuracy: 0.5707 - val_loss: 1.1429 - val_accuracy: 0.6069\n",
      "Epoch 3/50\n",
      "391/390 [==============================] - 39s 100ms/step - loss: 1.1638 - accuracy: 0.5908 - val_loss: 1.1165 - val_accuracy: 0.6111\n",
      "Epoch 4/50\n",
      "391/390 [==============================] - 39s 100ms/step - loss: 1.1278 - accuracy: 0.6036 - val_loss: 1.0998 - val_accuracy: 0.6223\n",
      "Epoch 5/50\n",
      "391/390 [==============================] - 40s 102ms/step - loss: 1.0924 - accuracy: 0.6158 - val_loss: 1.0955 - val_accuracy: 0.6190\n",
      "Epoch 6/50\n",
      "391/390 [==============================] - 40s 101ms/step - loss: 1.0653 - accuracy: 0.6246 - val_loss: 1.1060 - val_accuracy: 0.6193\n",
      "Epoch 7/50\n",
      "391/390 [==============================] - 40s 102ms/step - loss: 1.0468 - accuracy: 0.6332 - val_loss: 1.0735 - val_accuracy: 0.6313\n",
      "Epoch 8/50\n",
      "391/390 [==============================] - 39s 100ms/step - loss: 1.0138 - accuracy: 0.6413 - val_loss: 1.0872 - val_accuracy: 0.6298\n",
      "Epoch 9/50\n",
      "391/390 [==============================] - 40s 102ms/step - loss: 0.9964 - accuracy: 0.6473 - val_loss: 1.0509 - val_accuracy: 0.6420\n",
      "Epoch 10/50\n",
      "391/390 [==============================] - 39s 101ms/step - loss: 0.9785 - accuracy: 0.6560 - val_loss: 1.0919 - val_accuracy: 0.6349\n",
      "Epoch 11/50\n",
      "391/390 [==============================] - 39s 101ms/step - loss: 0.9597 - accuracy: 0.6610 - val_loss: 1.0735 - val_accuracy: 0.6309\n",
      "Epoch 12/50\n",
      "391/390 [==============================] - 39s 101ms/step - loss: 0.9388 - accuracy: 0.6705 - val_loss: 1.0648 - val_accuracy: 0.6380\n",
      "Epoch 13/50\n",
      "391/390 [==============================] - 40s 102ms/step - loss: 0.9221 - accuracy: 0.6723 - val_loss: 1.0725 - val_accuracy: 0.6364\n",
      "Epoch 14/50\n",
      "391/390 [==============================] - 39s 100ms/step - loss: 0.8983 - accuracy: 0.6832 - val_loss: 1.0345 - val_accuracy: 0.6502\n",
      "Epoch 15/50\n",
      "391/390 [==============================] - 39s 101ms/step - loss: 0.8819 - accuracy: 0.6881 - val_loss: 1.0772 - val_accuracy: 0.6446\n",
      "Epoch 16/50\n",
      "391/390 [==============================] - 39s 100ms/step - loss: 0.8612 - accuracy: 0.6957 - val_loss: 1.0504 - val_accuracy: 0.6416\n",
      "Epoch 17/50\n",
      "391/390 [==============================] - 40s 101ms/step - loss: 0.8477 - accuracy: 0.6979 - val_loss: 1.0743 - val_accuracy: 0.6416\n",
      "Epoch 18/50\n",
      "391/390 [==============================] - 39s 101ms/step - loss: 0.8440 - accuracy: 0.6998 - val_loss: 1.0743 - val_accuracy: 0.6456\n",
      "Epoch 19/50\n",
      "391/390 [==============================] - 39s 100ms/step - loss: 0.8207 - accuracy: 0.7084 - val_loss: 1.0864 - val_accuracy: 0.6346\n",
      "Epoch 20/50\n",
      "391/390 [==============================] - 40s 101ms/step - loss: 0.8024 - accuracy: 0.7132 - val_loss: 1.0808 - val_accuracy: 0.6409\n",
      "Epoch 21/50\n",
      "391/390 [==============================] - 39s 101ms/step - loss: 0.7873 - accuracy: 0.7195 - val_loss: 1.1572 - val_accuracy: 0.6342\n",
      "Epoch 22/50\n",
      "391/390 [==============================] - 40s 101ms/step - loss: 0.7810 - accuracy: 0.7200 - val_loss: 1.0603 - val_accuracy: 0.6452\n",
      "Epoch 23/50\n",
      "391/390 [==============================] - 40s 102ms/step - loss: 0.7598 - accuracy: 0.7277 - val_loss: 1.0748 - val_accuracy: 0.6450\n",
      "Epoch 24/50\n",
      "391/390 [==============================] - 40s 102ms/step - loss: 0.7584 - accuracy: 0.7290 - val_loss: 1.1008 - val_accuracy: 0.6422\n",
      "Epoch 25/50\n",
      "391/390 [==============================] - 40s 101ms/step - loss: 0.7487 - accuracy: 0.7301 - val_loss: 1.1069 - val_accuracy: 0.6409\n",
      "Epoch 26/50\n",
      "391/390 [==============================] - 40s 101ms/step - loss: 0.7316 - accuracy: 0.7397 - val_loss: 1.0905 - val_accuracy: 0.6468\n",
      "Epoch 27/50\n",
      "391/390 [==============================] - 40s 102ms/step - loss: 0.7221 - accuracy: 0.7414 - val_loss: 1.0747 - val_accuracy: 0.6474\n",
      "Epoch 28/50\n",
      "391/390 [==============================] - 40s 101ms/step - loss: 0.7109 - accuracy: 0.7446 - val_loss: 1.1304 - val_accuracy: 0.6434\n",
      "Epoch 29/50\n",
      "391/390 [==============================] - 40s 102ms/step - loss: 0.6958 - accuracy: 0.7514 - val_loss: 1.1255 - val_accuracy: 0.6405\n",
      "Epoch 30/50\n",
      "391/390 [==============================] - 39s 99ms/step - loss: 0.6892 - accuracy: 0.7543 - val_loss: 1.1337 - val_accuracy: 0.6450\n",
      "Epoch 31/50\n",
      "391/390 [==============================] - 40s 101ms/step - loss: 0.6788 - accuracy: 0.7552 - val_loss: 1.1230 - val_accuracy: 0.6458\n",
      "Epoch 32/50\n",
      "391/390 [==============================] - 40s 102ms/step - loss: 0.6684 - accuracy: 0.7621 - val_loss: 1.1573 - val_accuracy: 0.6402\n",
      "Epoch 33/50\n",
      "391/390 [==============================] - 40s 102ms/step - loss: 0.6636 - accuracy: 0.7630 - val_loss: 1.1332 - val_accuracy: 0.6412\n",
      "Epoch 34/50\n",
      "391/390 [==============================] - 40s 101ms/step - loss: 0.6517 - accuracy: 0.7666 - val_loss: 1.1327 - val_accuracy: 0.6457\n",
      "Epoch 35/50\n",
      "391/390 [==============================] - 39s 100ms/step - loss: 0.6502 - accuracy: 0.7691 - val_loss: 1.1429 - val_accuracy: 0.6443\n",
      "Epoch 36/50\n",
      "391/390 [==============================] - 39s 99ms/step - loss: 0.6398 - accuracy: 0.7686 - val_loss: 1.1529 - val_accuracy: 0.6455\n",
      "Epoch 37/50\n",
      "391/390 [==============================] - 39s 99ms/step - loss: 0.6327 - accuracy: 0.7733 - val_loss: 1.1516 - val_accuracy: 0.6443\n",
      "Epoch 38/50\n",
      "391/390 [==============================] - 39s 101ms/step - loss: 0.6261 - accuracy: 0.7751 - val_loss: 1.1543 - val_accuracy: 0.6387\n",
      "Epoch 39/50\n",
      "391/390 [==============================] - 39s 100ms/step - loss: 0.6204 - accuracy: 0.7772 - val_loss: 1.1398 - val_accuracy: 0.6451\n",
      "Epoch 40/50\n",
      "391/390 [==============================] - 39s 100ms/step - loss: 0.6179 - accuracy: 0.7789 - val_loss: 1.1485 - val_accuracy: 0.6392\n",
      "Epoch 41/50\n",
      "391/390 [==============================] - 40s 102ms/step - loss: 0.6130 - accuracy: 0.7811 - val_loss: 1.1748 - val_accuracy: 0.6365\n",
      "Epoch 42/50\n",
      "391/390 [==============================] - 39s 101ms/step - loss: 0.6025 - accuracy: 0.7834 - val_loss: 1.1680 - val_accuracy: 0.6418\n",
      "Epoch 43/50\n",
      "391/390 [==============================] - 39s 99ms/step - loss: 0.5926 - accuracy: 0.7864 - val_loss: 1.1659 - val_accuracy: 0.6460\n",
      "Epoch 44/50\n",
      "391/390 [==============================] - 39s 99ms/step - loss: 0.5848 - accuracy: 0.7908 - val_loss: 1.1661 - val_accuracy: 0.6492\n",
      "Epoch 45/50\n",
      "391/390 [==============================] - 39s 99ms/step - loss: 0.5843 - accuracy: 0.7903 - val_loss: 1.1822 - val_accuracy: 0.6522\n",
      "Epoch 46/50\n",
      "391/390 [==============================] - 39s 99ms/step - loss: 0.5724 - accuracy: 0.7951 - val_loss: 1.1898 - val_accuracy: 0.6429\n",
      "Epoch 47/50\n",
      "391/390 [==============================] - 39s 99ms/step - loss: 0.5703 - accuracy: 0.7975 - val_loss: 1.1825 - val_accuracy: 0.6472\n",
      "Epoch 48/50\n",
      "391/390 [==============================] - 40s 102ms/step - loss: 0.5618 - accuracy: 0.7991 - val_loss: 1.1848 - val_accuracy: 0.6417\n",
      "Epoch 49/50\n",
      "391/390 [==============================] - 40s 101ms/step - loss: 0.5575 - accuracy: 0.8009 - val_loss: 1.1835 - val_accuracy: 0.6485\n",
      "Epoch 50/50\n",
      "391/390 [==============================] - 39s 101ms/step - loss: 0.5559 - accuracy: 0.8018 - val_loss: 1.1914 - val_accuracy: 0.6446\n"
     ]
    }
   ],
   "source": [
    "resnet_pre = ResNet.fit(datagen.flow(x_train, y_train, batch_size=128),\n",
    "                    steps_per_epoch=len(x_train) / 128, epochs = 50, validation_data=(x_test, y_test), verbose = 1)"
   ]
  },
  {
   "cell_type": "code",
   "execution_count": null,
   "metadata": {
    "colab": {
     "base_uri": "https://localhost:8080/",
     "height": 312
    },
    "colab_type": "code",
    "id": "2itLGvoicJyq",
    "outputId": "9089aef5-10c7-4c6f-c3cd-9003a88bb53d"
   },
   "outputs": [
    {
     "data": {
      "text/plain": [
       "Text(0, 0.5, 'acc')"
      ]
     },
     "execution_count": 21,
     "metadata": {
      "tags": []
     },
     "output_type": "execute_result"
    },
    {
     "data": {
      "image/png": "[encoded data removed]",
      "text/plain": [
       "<Figure size 432x288 with 1 Axes>"
      ]
     },
     "metadata": {
      "needs_background": "light",
      "tags": []
     },
     "output_type": "display_data"
    }
   ],
   "source": [
    "f1, ax1 = plt.subplots()\n",
    "ax1.plot([None] + resnet_pre.history['accuracy'], 'o-')\n",
    "ax1.plot([None] + resnet_pre.history['val_accuracy'], 'x-')\n",
    "# Plot legend and use the best location automatically: loc = 0.\n",
    "ax1.legend(['Train acc', 'Validation acc'], loc = 0)\n",
    "ax1.set_title('Training/Validation acc per Epoch')\n",
    "ax1.set_xlabel('Epoch')\n",
    "ax1.set_ylabel('acc')"
   ]
  },
  {
   "cell_type": "markdown",
   "metadata": {
    "colab_type": "text",
    "id": "cmnXRzZBRPHY"
   },
   "source": [
    "# **Resnet (No Transfer Learning)**"
   ]
  },
  {
   "cell_type": "code",
   "execution_count": null,
   "metadata": {
    "colab": {
     "base_uri": "https://localhost:8080/",
     "height": 443
    },
    "colab_type": "code",
    "id": "2r3zAzKu52Dp",
    "outputId": "23d06c87-238d-4a1f-ef86-04e07ca1268f"
   },
   "outputs": [
    {
     "name": "stdout",
     "output_type": "stream",
     "text": [
      "Model: \"sequential_3\"\n",
      "_________________________________________________________________\n",
      "Layer (type)                 Output Shape              Param #   \n",
      "=================================================================\n",
      "resnet50 (Model)             (None, 2048)              23587712  \n",
      "_________________________________________________________________\n",
      "flatten_2 (Flatten)          (None, 2048)              0         \n",
      "_________________________________________________________________\n",
      "batch_normalization_100 (Bat (None, 2048)              8192      \n",
      "_________________________________________________________________\n",
      "dense_7 (Dense)              (None, 2048)              4196352   \n",
      "_________________________________________________________________\n",
      "batch_normalization_101 (Bat (None, 2048)              8192      \n",
      "_________________________________________________________________\n",
      "dense_8 (Dense)              (None, 1024)              2098176   \n",
      "_________________________________________________________________\n",
      "batch_normalization_102 (Bat (None, 1024)              4096      \n",
      "_________________________________________________________________\n",
      "dense_9 (Dense)              (None, 10)                10250     \n",
      "=================================================================\n",
      "Total params: 29,912,970\n",
      "Trainable params: 29,849,610\n",
      "Non-trainable params: 63,360\n",
      "_________________________________________________________________\n"
     ]
    }
   ],
   "source": [
    "ResNet_NonPre = Sequential()\n",
    "\n",
    "ResNet_NonPre.add(ResNet50(include_top=False, pooling='avg', weights=None))\n",
    "ResNet_NonPre.add(Flatten())\n",
    "ResNet_NonPre.add(BatchNormalization())\n",
    "ResNet_NonPre.add(Dense(2048, activation='relu'))\n",
    "ResNet_NonPre.add(BatchNormalization())\n",
    "ResNet_NonPre.add(Dense(1024, activation='relu'))\n",
    "ResNet_NonPre.add(BatchNormalization())\n",
    "ResNet_NonPre.add(Dense(10, activation='softmax'))\n",
    "\n",
    "ResNet_NonPre.compile(optimizer='adam', loss='categorical_crossentropy', metrics=['accuracy'])\n",
    "ResNet_NonPre.summary()"
   ]
  },
  {
   "cell_type": "code",
   "execution_count": null,
   "metadata": {
    "colab": {
     "base_uri": "https://localhost:8080/",
     "height": 1000
    },
    "colab_type": "code",
    "id": "OV78edc5Rlg6",
    "outputId": "37188092-3e0e-43eb-89e9-5596b1a4920e"
   },
   "outputs": [
    {
     "name": "stdout",
     "output_type": "stream",
     "text": [
      "Epoch 1/50\n",
      "391/390 [==============================] - 71s 182ms/step - loss: 1.8709 - accuracy: 0.3441 - val_loss: 1.6725 - val_accuracy: 0.3940\n",
      "Epoch 2/50\n",
      "391/390 [==============================] - 69s 176ms/step - loss: 1.5104 - accuracy: 0.4575 - val_loss: 1.6322 - val_accuracy: 0.4178\n",
      "Epoch 3/50\n",
      "391/390 [==============================] - 69s 176ms/step - loss: 1.4279 - accuracy: 0.4923 - val_loss: 6.7617 - val_accuracy: 0.3174\n",
      "Epoch 4/50\n",
      "391/390 [==============================] - 69s 176ms/step - loss: 1.4070 - accuracy: 0.5023 - val_loss: 1.6032 - val_accuracy: 0.4228\n",
      "Epoch 5/50\n",
      "391/390 [==============================] - 69s 176ms/step - loss: 1.3077 - accuracy: 0.5380 - val_loss: 1.3938 - val_accuracy: 0.5075\n",
      "Epoch 6/50\n",
      "391/390 [==============================] - 69s 176ms/step - loss: 1.1855 - accuracy: 0.5809 - val_loss: 1.6202 - val_accuracy: 0.4587\n",
      "Epoch 7/50\n",
      "391/390 [==============================] - 69s 176ms/step - loss: 1.1125 - accuracy: 0.6067 - val_loss: 1.1900 - val_accuracy: 0.5947\n",
      "Epoch 8/50\n",
      "391/390 [==============================] - 69s 176ms/step - loss: 1.0919 - accuracy: 0.6180 - val_loss: 1.1145 - val_accuracy: 0.6235\n",
      "Epoch 9/50\n",
      "391/390 [==============================] - 69s 176ms/step - loss: 1.0370 - accuracy: 0.6396 - val_loss: 1.5501 - val_accuracy: 0.5277\n",
      "Epoch 10/50\n",
      "391/390 [==============================] - 69s 176ms/step - loss: 1.1214 - accuracy: 0.6127 - val_loss: 2.4612 - val_accuracy: 0.3379\n",
      "Epoch 11/50\n",
      "391/390 [==============================] - 69s 176ms/step - loss: 1.0520 - accuracy: 0.6393 - val_loss: 1.2470 - val_accuracy: 0.5935\n",
      "Epoch 12/50\n",
      "391/390 [==============================] - 69s 176ms/step - loss: 0.9755 - accuracy: 0.6626 - val_loss: 2.3363 - val_accuracy: 0.3408\n",
      "Epoch 13/50\n",
      "391/390 [==============================] - 69s 176ms/step - loss: 1.1147 - accuracy: 0.6160 - val_loss: 1.5868 - val_accuracy: 0.4855\n",
      "Epoch 14/50\n",
      "391/390 [==============================] - 69s 176ms/step - loss: 1.0336 - accuracy: 0.6435 - val_loss: 1.4527 - val_accuracy: 0.5578\n",
      "Epoch 15/50\n",
      "391/390 [==============================] - 69s 176ms/step - loss: 0.8756 - accuracy: 0.6956 - val_loss: 0.9299 - val_accuracy: 0.6829\n",
      "Epoch 16/50\n",
      "391/390 [==============================] - 69s 177ms/step - loss: 0.7949 - accuracy: 0.7224 - val_loss: 0.8108 - val_accuracy: 0.7273\n",
      "Epoch 17/50\n",
      "391/390 [==============================] - 69s 176ms/step - loss: 0.9219 - accuracy: 0.6772 - val_loss: 1.0443 - val_accuracy: 0.6579\n",
      "Epoch 18/50\n",
      "391/390 [==============================] - 69s 176ms/step - loss: 0.7693 - accuracy: 0.7314 - val_loss: 0.8168 - val_accuracy: 0.7247\n",
      "Epoch 19/50\n",
      "391/390 [==============================] - 69s 176ms/step - loss: 0.7257 - accuracy: 0.7489 - val_loss: 0.8136 - val_accuracy: 0.7317\n",
      "Epoch 20/50\n",
      "391/390 [==============================] - 69s 176ms/step - loss: 1.0474 - accuracy: 0.6505 - val_loss: 1.2241 - val_accuracy: 0.5902\n",
      "Epoch 21/50\n",
      "391/390 [==============================] - 69s 176ms/step - loss: 1.2084 - accuracy: 0.5994 - val_loss: 1.4372 - val_accuracy: 0.5198\n",
      "Epoch 22/50\n",
      "391/390 [==============================] - 69s 176ms/step - loss: 0.9197 - accuracy: 0.6822 - val_loss: 3.1365 - val_accuracy: 0.2671\n",
      "Epoch 23/50\n",
      "391/390 [==============================] - 69s 176ms/step - loss: 0.9487 - accuracy: 0.6786 - val_loss: 1.9030 - val_accuracy: 0.4389\n",
      "Epoch 24/50\n",
      "391/390 [==============================] - 69s 176ms/step - loss: 1.0439 - accuracy: 0.6529 - val_loss: 0.9733 - val_accuracy: 0.6815\n",
      "Epoch 25/50\n",
      "391/390 [==============================] - 69s 176ms/step - loss: 0.9189 - accuracy: 0.6877 - val_loss: 10.9922 - val_accuracy: 0.3632\n",
      "Epoch 26/50\n",
      "391/390 [==============================] - 69s 176ms/step - loss: 0.8817 - accuracy: 0.7040 - val_loss: 2.7448 - val_accuracy: 0.3972\n",
      "Epoch 27/50\n",
      "391/390 [==============================] - 69s 177ms/step - loss: 0.9834 - accuracy: 0.6662 - val_loss: 2.5309 - val_accuracy: 0.6853\n",
      "Epoch 28/50\n",
      "391/390 [==============================] - 69s 177ms/step - loss: 0.8160 - accuracy: 0.7208 - val_loss: 1.1259 - val_accuracy: 0.7414\n",
      "Epoch 29/50\n",
      "391/390 [==============================] - 69s 177ms/step - loss: 0.7156 - accuracy: 0.7511 - val_loss: 0.9784 - val_accuracy: 0.7237\n",
      "Epoch 30/50\n",
      "391/390 [==============================] - 69s 177ms/step - loss: 0.8157 - accuracy: 0.7197 - val_loss: 0.8937 - val_accuracy: 0.6937\n",
      "Epoch 31/50\n",
      "391/390 [==============================] - 69s 177ms/step - loss: 0.6955 - accuracy: 0.7570 - val_loss: 0.6880 - val_accuracy: 0.7634\n",
      "Epoch 32/50\n",
      "391/390 [==============================] - 69s 177ms/step - loss: 0.6365 - accuracy: 0.7790 - val_loss: 0.7354 - val_accuracy: 0.7573\n",
      "Epoch 33/50\n",
      "391/390 [==============================] - 69s 177ms/step - loss: 0.6075 - accuracy: 0.7895 - val_loss: 0.7777 - val_accuracy: 0.7502\n",
      "Epoch 34/50\n",
      "391/390 [==============================] - 69s 177ms/step - loss: 0.5854 - accuracy: 0.7957 - val_loss: 0.9171 - val_accuracy: 0.7056\n",
      "Epoch 35/50\n",
      "391/390 [==============================] - 69s 177ms/step - loss: 0.5814 - accuracy: 0.7971 - val_loss: 2.0117 - val_accuracy: 0.4866\n",
      "Epoch 36/50\n",
      "391/390 [==============================] - 69s 177ms/step - loss: 0.5938 - accuracy: 0.7937 - val_loss: 1.0829 - val_accuracy: 0.7646\n",
      "Epoch 37/50\n",
      "391/390 [==============================] - 69s 177ms/step - loss: 0.5471 - accuracy: 0.8097 - val_loss: 1.0268 - val_accuracy: 0.7735\n",
      "Epoch 38/50\n",
      "391/390 [==============================] - 69s 177ms/step - loss: 0.5321 - accuracy: 0.8152 - val_loss: 15.6074 - val_accuracy: 0.7887\n",
      "Epoch 39/50\n",
      "391/390 [==============================] - 69s 176ms/step - loss: 0.5215 - accuracy: 0.8185 - val_loss: 17.7756 - val_accuracy: 0.6961\n",
      "Epoch 40/50\n",
      "391/390 [==============================] - 69s 176ms/step - loss: 0.5137 - accuracy: 0.8208 - val_loss: 27.5743 - val_accuracy: 0.7783\n",
      "Epoch 41/50\n",
      "391/390 [==============================] - 69s 177ms/step - loss: 0.4894 - accuracy: 0.8306 - val_loss: 336.4310 - val_accuracy: 0.7709\n",
      "Epoch 42/50\n",
      "391/390 [==============================] - 69s 176ms/step - loss: 0.4781 - accuracy: 0.8330 - val_loss: 276.2092 - val_accuracy: 0.7720\n",
      "Epoch 43/50\n",
      "391/390 [==============================] - 69s 177ms/step - loss: 0.4681 - accuracy: 0.8372 - val_loss: 143.6685 - val_accuracy: 0.7635\n",
      "Epoch 44/50\n",
      "391/390 [==============================] - 69s 176ms/step - loss: 0.4584 - accuracy: 0.8400 - val_loss: 171.7812 - val_accuracy: 0.7652\n",
      "Epoch 45/50\n",
      "391/390 [==============================] - 69s 176ms/step - loss: 0.4446 - accuracy: 0.8445 - val_loss: 79.0201 - val_accuracy: 0.7975\n",
      "Epoch 46/50\n",
      "391/390 [==============================] - 69s 176ms/step - loss: 0.4447 - accuracy: 0.8434 - val_loss: 1.5087 - val_accuracy: 0.7547\n",
      "Epoch 47/50\n",
      "391/390 [==============================] - 69s 176ms/step - loss: 0.4266 - accuracy: 0.8481 - val_loss: 3049.1726 - val_accuracy: 0.7802\n",
      "Epoch 48/50\n",
      "391/390 [==============================] - 69s 176ms/step - loss: 0.4123 - accuracy: 0.8546 - val_loss: 3633.8022 - val_accuracy: 0.7904\n",
      "Epoch 49/50\n",
      "391/390 [==============================] - 69s 176ms/step - loss: 0.4054 - accuracy: 0.8559 - val_loss: 1646.2625 - val_accuracy: 0.7875\n",
      "Epoch 50/50\n",
      "391/390 [==============================] - 69s 177ms/step - loss: 0.3885 - accuracy: 0.8640 - val_loss: 2091.0889 - val_accuracy: 0.7941\n"
     ]
    }
   ],
   "source": [
    "plot_nonpre_resnet = ResNet_NonPre.fit(datagen.flow(x_train, y_train, batch_size=128),\n",
    "                    steps_per_epoch=len(x_train) / 128, epochs = 50, validation_data=(x_test, y_test), verbose = 1)"
   ]
  },
  {
   "cell_type": "code",
   "execution_count": null,
   "metadata": {
    "colab": {
     "base_uri": "https://localhost:8080/",
     "height": 312
    },
    "colab_type": "code",
    "id": "AM0QphmIRyO1",
    "outputId": "e2f08607-b8d9-4bc8-df54-99e9bc7232ab"
   },
   "outputs": [
    {
     "data": {
      "text/plain": [
       "Text(0, 0.5, 'acc')"
      ]
     },
     "execution_count": 20,
     "metadata": {
      "tags": []
     },
     "output_type": "execute_result"
    },
    {
     "data": {
      "image/png": "[encoded data removed]",
      "text/plain": [
       "<Figure size 432x288 with 1 Axes>"
      ]
     },
     "metadata": {
      "needs_background": "light",
      "tags": []
     },
     "output_type": "display_data"
    }
   ],
   "source": [
    "f1, ax1 = plt.subplots()\n",
    "ax1.plot([None] + plot_nonpre_resnet.history['accuracy'], 'o-')\n",
    "ax1.plot([None] + plot_nonpre_resnet.history['val_accuracy'], 'x-')\n",
    "# Plot legend and use the best location automatically: loc = 0.\n",
    "ax1.legend(['Train acc', 'Validation acc'], loc = 0)\n",
    "ax1.set_title('Training/Validation acc per Epoch')\n",
    "ax1.set_xlabel('Epoch')\n",
    "ax1.set_ylabel('acc')"
   ]
  },
  {
   "cell_type": "code",
   "execution_count": null,
   "metadata": {
    "colab": {},
    "colab_type": "code",
    "id": "yWhoKsghUBx6"
   },
   "outputs": [],
   "source": [
    " "
   ]
  }
 ],
 "metadata": {
  "accelerator": "GPU",
  "colab": {
   "collapsed_sections": [
    "XIavGBSGPacM",
    "BkaSIYndJVfZ",
    "gfKNOL-7q1gx",
    "14B2Hk8MaZQG",
    "ESruTQziaH2Q",
    "Gp0EWOjmutDt",
    "KBUzNWGOzKvg",
    "cmnXRzZBRPHY"
   ],
   "machine_shape": "hm",
   "name": "Copy of DS8013_FinalProject_Group6.ipynb",
   "provenance": []
  },
  "kernelspec": {
   "display_name": "Python 3",
   "language": "python",
   "name": "python3"
  },
  "language_info": {
   "codemirror_mode": {
    "name": "ipython",
    "version": 3
   },
   "file_extension": ".py",
   "mimetype": "text/x-python",
   "name": "python",
   "nbconvert_exporter": "python",
   "pygments_lexer": "ipython3",
   "version": "3.7.6"
  }
 },
 "nbformat": 4,
 "nbformat_minor": 1
}
